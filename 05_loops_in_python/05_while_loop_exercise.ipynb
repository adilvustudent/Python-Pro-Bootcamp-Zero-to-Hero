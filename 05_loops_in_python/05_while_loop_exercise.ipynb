{
 "cells": [
  {
   "cell_type": "markdown",
   "metadata": {},
   "source": [
    "----\n",
    "\n",
    "# **`While Loop Practice in Python`**\n",
    "\n",
    "-----"
   ]
  },
  {
   "cell_type": "markdown",
   "metadata": {},
   "source": [
    "### **`Problem 1`**\n",
    "\n",
    "- Write a Python Program to reverse a given number using while loop."
   ]
  },
  {
   "cell_type": "code",
   "execution_count": 2,
   "metadata": {},
   "outputs": [
    {
     "name": "stdout",
     "output_type": "stream",
     "text": [
      "54321\n"
     ]
    }
   ],
   "source": [
    "# Initialize the number to be reversed\n",
    "number = 12345\n",
    "\n",
    "# Initialize a variable to store the reversed number\n",
    "reverse = 0\n",
    "\n",
    "# Loop until the number is greater than 0\n",
    "while number > 0:\n",
    "    # Get the last digit of the number\n",
    "    reminder = number % 10\n",
    "    \n",
    "    # Append the last digit to the reversed number\n",
    "    reverse = (reverse * 10) + reminder\n",
    "    \n",
    "    # Remove the last digit from the original number\n",
    "    number = number // 10\n",
    "\n",
    "# Print the reversed number\n",
    "print(reverse)"
   ]
  },
  {
   "cell_type": "markdown",
   "metadata": {},
   "source": [
    "### **`Problem 2`**\n",
    "\n",
    "- Write a Python Program to find sum of digits of a given number using while loop."
   ]
  },
  {
   "cell_type": "code",
   "execution_count": 5,
   "metadata": {},
   "outputs": [
    {
     "name": "stdout",
     "output_type": "stream",
     "text": [
      "15\n"
     ]
    }
   ],
   "source": [
    "# Initialize the number whose digits will be summed\n",
    "number = 12345\n",
    "\n",
    "# Initialize a variable to store the sum of the digits\n",
    "sum = 0\n",
    "\n",
    "# Loop until the number is greater than 0\n",
    "while number > 0:\n",
    "    # Add the last digit of the number to the sum\n",
    "    sum += number % 10\n",
    "    \n",
    "    # Remove the last digit from the number\n",
    "    number = number // 10\n",
    "\n",
    "# Print the total sum of the digits\n",
    "print(sum)"
   ]
  },
  {
   "cell_type": "markdown",
   "metadata": {},
   "source": [
    "### **`Problem 3`**\n",
    "\n",
    "- Write a Python Program to display a countdown timer from 10 to 1 using while loop."
   ]
  },
  {
   "cell_type": "code",
   "execution_count": 6,
   "metadata": {},
   "outputs": [
    {
     "name": "stdout",
     "output_type": "stream",
     "text": [
      "10\n",
      "9\n",
      "8\n",
      "7\n",
      "6\n",
      "5\n",
      "4\n",
      "3\n",
      "2\n",
      "1\n",
      "Time's up!\n"
     ]
    }
   ],
   "source": [
    "import time\n",
    "\n",
    "countdown = 10\n",
    "while countdown > 0:\n",
    "    print(countdown)\n",
    "    countdown -= 1\n",
    "    time.sleep(1)\n",
    "\n",
    "print(\"Time's up!\")"
   ]
  },
  {
   "cell_type": "markdown",
   "metadata": {},
   "source": [
    "----"
   ]
  }
 ],
 "metadata": {
  "kernelspec": {
   "display_name": "Python 3",
   "language": "python",
   "name": "python3"
  },
  "language_info": {
   "codemirror_mode": {
    "name": "ipython",
    "version": 3
   },
   "file_extension": ".py",
   "mimetype": "text/x-python",
   "name": "python",
   "nbconvert_exporter": "python",
   "pygments_lexer": "ipython3",
   "version": "3.10.15"
  }
 },
 "nbformat": 4,
 "nbformat_minor": 2
}
