{
 "cells": [
  {
   "cell_type": "markdown",
   "metadata": {},
   "source": [
    "-----"
   ]
  },
  {
   "cell_type": "markdown",
   "metadata": {},
   "source": [
    "# **`For Loops in Python Exercise`**"
   ]
  },
  {
   "cell_type": "markdown",
   "metadata": {},
   "source": [
    "----"
   ]
  },
  {
   "cell_type": "markdown",
   "metadata": {},
   "source": [
    "### **`Problem 1`**\n",
    "- Write a Python Program to find sum of all numbers from 1 to 50. Use a For loop and Continue statement. "
   ]
  },
  {
   "cell_type": "code",
   "execution_count": 2,
   "metadata": {},
   "outputs": [
    {
     "name": "stdout",
     "output_type": "stream",
     "text": [
      "650\n"
     ]
    }
   ],
   "source": [
    "sum = 0\n",
    "\n",
    "for num in range(1,51):\n",
    "    if num % 2 != 0: # for odd numbers\n",
    "        continue\n",
    "    sum+=num\n",
    "print(sum)"
   ]
  },
  {
   "cell_type": "markdown",
   "metadata": {},
   "source": [
    "### **`Problem 2`**\n",
    "- Write a Python Program to find first multiple of **7** in range from 10 to 50. Use a For loop and break statement. "
   ]
  },
  {
   "cell_type": "code",
   "execution_count": 1,
   "metadata": {},
   "outputs": [
    {
     "name": "stdout",
     "output_type": "stream",
     "text": [
      "14\n"
     ]
    }
   ],
   "source": [
    "for num in range(10,51):\n",
    "    if num % 7 == 0:\n",
    "        break\n",
    "print(num)"
   ]
  },
  {
   "cell_type": "markdown",
   "metadata": {},
   "source": [
    "### **`Problem 3`**\n",
    "- Write a Python Program to count how many times the letter **`a`** apears in a given string. Use for loop and continue statement."
   ]
  },
  {
   "cell_type": "code",
   "execution_count": 5,
   "metadata": {},
   "outputs": [
    {
     "name": "stdout",
     "output_type": "stream",
     "text": [
      "Please tell me about Adil\n",
      "The numbr of times a or A in provided string is 3\n"
     ]
    }
   ],
   "source": [
    "# given_string = input(\"Enter a String: \")\n",
    "\n",
    "# count_char_a = 0\n",
    "\n",
    "# for char in given_string:\n",
    "#     if char != \"a\" and char!=\"A\":\n",
    "#         continue\n",
    "#     count_char_a += 1\n",
    "# print(given_string)\n",
    "# print(f\"The numbr of times a or A in provided string is {count_char_a}\")"
   ]
  },
  {
   "cell_type": "markdown",
   "metadata": {},
   "source": [
    "### **`Problem 4`**\n",
    "- Write a Python Program to print all prime numbers between 10 to 30 using a for loop and break statement."
   ]
  },
  {
   "cell_type": "code",
   "execution_count": 8,
   "metadata": {},
   "outputs": [
    {
     "name": "stdout",
     "output_type": "stream",
     "text": [
      "11\n",
      "13\n",
      "17\n",
      "19\n",
      "23\n",
      "29\n"
     ]
    }
   ],
   "source": [
    "for num in range(10,31):\n",
    "    if num > 1:\n",
    "        for i in range(2,num):\n",
    "            if num % i ==0:\n",
    "                break\n",
    "        else:\n",
    "            print(num)"
   ]
  },
  {
   "cell_type": "markdown",
   "metadata": {},
   "source": [
    "### **`Problem 5`**\n",
    "- Write a Python Program to sum all positive numbers in a list untill a zero is encountered using a for loop and break statement."
   ]
  },
  {
   "cell_type": "code",
   "execution_count": 14,
   "metadata": {},
   "outputs": [
    {
     "name": "stdout",
     "output_type": "stream",
     "text": [
      "-1\n",
      "Negative Value\n",
      "28\n"
     ]
    }
   ],
   "source": [
    "l = [1,2,3,4,5,6,7, -1,8]\n",
    "sum=0\n",
    "for i in l:\n",
    "    if i== -1:\n",
    "        print(i)\n",
    "        print(\"Negative Value\")\n",
    "        break\n",
    "    sum = sum + i\n",
    "print(sum)"
   ]
  },
  {
   "cell_type": "code",
   "execution_count": null,
   "metadata": {},
   "outputs": [],
   "source": []
  }
 ],
 "metadata": {
  "kernelspec": {
   "display_name": "Python 3",
   "language": "python",
   "name": "python3"
  },
  "language_info": {
   "codemirror_mode": {
    "name": "ipython",
    "version": 3
   },
   "file_extension": ".py",
   "mimetype": "text/x-python",
   "name": "python",
   "nbconvert_exporter": "python",
   "pygments_lexer": "ipython3",
   "version": "3.10.15"
  }
 },
 "nbformat": 4,
 "nbformat_minor": 2
}
