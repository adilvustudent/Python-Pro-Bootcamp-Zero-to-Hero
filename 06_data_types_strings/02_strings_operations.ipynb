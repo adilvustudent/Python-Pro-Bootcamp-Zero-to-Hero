{
 "cells": [
  {
   "cell_type": "markdown",
   "metadata": {},
   "source": [
    "\n",
    "-----\n",
    "\n",
    "# **`String Operations`**\n",
    "\n",
    "-----"
   ]
  },
  {
   "cell_type": "markdown",
   "metadata": {},
   "source": [
    "\n",
    "\n",
    "## **String Operations in Python**\n",
    "\n",
    "#### 1. **Creating Strings**\n",
    "Strings can be created using single, double, or triple quotes.\n",
    "\n",
    "```python\n",
    "# Single quotes\n",
    "string1 = 'Hello'\n",
    "\n",
    "# Double quotes\n",
    "string2 = \"World\"\n",
    "\n",
    "# Triple quotes for multi-line strings\n",
    "string3 = \"\"\"This is\n",
    "a multi-line string.\"\"\"\n",
    "```\n",
    "\n",
    "#### 2. **Accessing Characters**\n",
    "You can access characters in a string using indexing.\n",
    "\n",
    "```python\n",
    "s = \"Python\"\n",
    "print(s[0])   # Output: P\n",
    "print(s[-1])  # Output: n (last character)\n",
    "```\n",
    "\n",
    "#### 3. **Slicing Strings**\n",
    "You can extract substrings using slicing.\n",
    "\n",
    "```python\n",
    "s = \"Hello, World!\"\n",
    "print(s[0:5])   # Output: Hello\n",
    "print(s[7:])    # Output: World!\n",
    "print(s[:5])    # Output: Hello\n",
    "print(s[::2])   # Output: Hlo ol! (every second character)\n",
    "```\n",
    "\n",
    "#### 4. **String Length**\n",
    "To find the length of a string, use the `len()` function.\n",
    "\n",
    "```python\n",
    "s = \"Hello\"\n",
    "print(len(s))  # Output: 5\n",
    "```\n",
    "\n",
    "#### 5. **String Methods**\n",
    "\n",
    "##### a. **Changing Case**\n",
    "- `upper()`: Converts to uppercase\n",
    "- `lower()`: Converts to lowercase\n",
    "- `title()`: Capitalizes the first letter of each word\n",
    "- `capitalize()`: Capitalizes the first letter of the string\n",
    "\n",
    "```python\n",
    "s = \"hello world\"\n",
    "print(s.upper())    # Output: HELLO WORLD\n",
    "print(s.title())    # Output: Hello World\n",
    "print(s.capitalize()) # Output: Hello world\n",
    "```\n",
    "\n",
    "##### b. **Finding Substrings**\n",
    "- `find()`: Returns the index of the first occurrence of a substring, or -1 if not found.\n",
    "- `rfind()`: Searches from the end of the string.\n",
    "- `count()`: Returns the number of occurrences of a substring.\n",
    "\n",
    "```python\n",
    "s = \"Hello, World!\"\n",
    "print(s.find(\"World\"))  # Output: 7\n",
    "print(s.count(\"o\"))     # Output: 2\n",
    "```\n",
    "\n",
    "##### c. **Replacing Substrings**\n",
    "- `replace()`: Replaces occurrences of a substring with another substring.\n",
    "\n",
    "```python\n",
    "s = \"Hello, World!\"\n",
    "print(s.replace(\"World\", \"Python\"))  # Output: Hello, Python!\n",
    "```\n",
    "\n",
    "##### d. **Trimming Whitespace**\n",
    "- `strip()`: Removes whitespace from both ends.\n",
    "- `lstrip()`: Removes whitespace from the left end.\n",
    "- `rstrip()`: Removes whitespace from the right end.\n",
    "\n",
    "```python\n",
    "s = \"   Hello, World!   \"\n",
    "print(s.strip())  # Output: Hello, World!\n",
    "```\n",
    "\n",
    "##### e. **Joining Strings**\n",
    "- `join()`: Joins elements of an iterable with a specified separator.\n",
    "\n",
    "```python\n",
    "words = [\"Hello\", \"World\"]\n",
    "print(\" \".join(words))  # Output: Hello World\n",
    "```\n",
    "\n",
    "##### f. **Splitting Strings**\n",
    "- `split()`: Splits a string into a list based on a specified delimiter.\n",
    "\n",
    "```python\n",
    "s = \"Hello, World!\"\n",
    "print(s.split(\",\"))  # Output: ['Hello', ' World!']\n",
    "```\n",
    "\n",
    "#### 6. **String Formatting**\n",
    "\n",
    "##### a. **Old-style Formatting**\n",
    "Using `%` for formatting strings.\n",
    "\n",
    "```python\n",
    "name = \"Alice\"\n",
    "age = 30\n",
    "print(\"My name is %s and I am %d years old.\" % (name, age))\n",
    "```\n",
    "\n",
    "##### b. **New-style Formatting**\n",
    "Using the `format()` method.\n",
    "\n",
    "```python\n",
    "print(\"My name is {} and I am {} years old.\".format(name, age))\n",
    "```\n",
    "\n",
    "##### c. **F-strings (Python 3.6+)**\n",
    "Using f-strings for easier formatting.\n",
    "\n",
    "```python\n",
    "print(f\"My name is {name} and I am {age} years old.\")\n",
    "```\n",
    "\n",
    "#### 7. **Escape Characters**\n",
    "Backslashes (`\\`) are used for special characters.\n",
    "\n",
    "```python\n",
    "s = \"She said, \\\"Hello!\\\"\\nHow are you?\"\n",
    "print(s)  \n",
    "# Output:\n",
    "# She said, \"Hello!\"\n",
    "# How are you?\n",
    "```\n",
    "\n",
    "#### 8. **String Comparison**\n",
    "Strings can be compared using relational operators, which check lexicographical order.\n",
    "\n",
    "```python\n",
    "s1 = \"apple\"\n",
    "s2 = \"banana\"\n",
    "print(s1 < s2)  # Output: True (because 'a' < 'b')\n",
    "```\n",
    "\n",
    "### **Conclusion**\n",
    "Strings in Python are versatile and powerful, with a rich set of operations for manipulation and formatting. Understanding these operations is essential for effective programming in Python. If you have any specific questions or need examples for certain operations, feel free to ask!\n",
    "\n",
    "-----"
   ]
  },
  {
   "cell_type": "markdown",
   "metadata": {},
   "source": [
    "### **Let's Practice**"
   ]
  },
  {
   "cell_type": "code",
   "execution_count": 2,
   "metadata": {},
   "outputs": [
    {
     "name": "stdout",
     "output_type": "stream",
     "text": [
      "Adil Naeem\n"
     ]
    }
   ],
   "source": [
    "# Concatenation (Both Strings)\n",
    "\n",
    "a = \"Adil\"\n",
    "b = \" Naeem\"\n",
    "\n",
    "print(a + b)"
   ]
  },
  {
   "cell_type": "code",
   "execution_count": 7,
   "metadata": {},
   "outputs": [
    {
     "name": "stdout",
     "output_type": "stream",
     "text": [
      " Adil Adil Adil\n"
     ]
    }
   ],
   "source": [
    "# Repetition (1 String and 1 Integer) \n",
    "\n",
    "a = 3\n",
    "b = \" Adil\"\n",
    "print(a * b)"
   ]
  },
  {
   "cell_type": "code",
   "execution_count": 8,
   "metadata": {},
   "outputs": [
    {
     "name": "stdout",
     "output_type": "stream",
     "text": [
      "A\n",
      "d\n",
      "i\n",
      "l\n"
     ]
    }
   ],
   "source": [
    "# Looping \n",
    "\n",
    "# for loop\n",
    "\n",
    "a = \"Adil\"\n",
    "\n",
    "for i in a:\n",
    "    print(i)"
   ]
  },
  {
   "cell_type": "code",
   "execution_count": 11,
   "metadata": {},
   "outputs": [
    {
     "name": "stdout",
     "output_type": "stream",
     "text": [
      "A\n",
      "d\n",
      "i\n",
      "l\n"
     ]
    }
   ],
   "source": [
    "# while loop\n",
    "\n",
    "a = \"Adil\"\n",
    "i = 0\n",
    "while i < len(a):\n",
    "    print(a[i])\n",
    "    i += 1"
   ]
  },
  {
   "cell_type": "code",
   "execution_count": 12,
   "metadata": {},
   "outputs": [
    {
     "name": "stdout",
     "output_type": "stream",
     "text": [
      "Ok\n"
     ]
    }
   ],
   "source": [
    "# Membership Operators\n",
    "str = \"Adil Naeem\"\n",
    "\n",
    "if \"eem\" in str:\n",
    "    print(\"Ok\")"
   ]
  },
  {
   "cell_type": "code",
   "execution_count": 13,
   "metadata": {},
   "outputs": [
    {
     "name": "stdout",
     "output_type": "stream",
     "text": [
      "Ok\n"
     ]
    }
   ],
   "source": [
    "# Comparison Operators\n",
    "str = \"Adil Naeem\"\n",
    "\n",
    "if str == \"Adil Naeem\":\n",
    "    print(\"Ok\")\n",
    "else:\n",
    "    print(\"Not Ok\")"
   ]
  },
  {
   "cell_type": "markdown",
   "metadata": {},
   "source": [
    "----"
   ]
  }
 ],
 "metadata": {
  "kernelspec": {
   "display_name": "Python 3",
   "language": "python",
   "name": "python3"
  },
  "language_info": {
   "codemirror_mode": {
    "name": "ipython",
    "version": 3
   },
   "file_extension": ".py",
   "mimetype": "text/x-python",
   "name": "python",
   "nbconvert_exporter": "python",
   "pygments_lexer": "ipython3",
   "version": "3.10.15"
  }
 },
 "nbformat": 4,
 "nbformat_minor": 2
}
