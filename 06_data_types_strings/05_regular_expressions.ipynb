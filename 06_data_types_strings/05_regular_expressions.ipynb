{
 "cells": [
  {
   "cell_type": "markdown",
   "metadata": {},
   "source": [
    "\n",
    "-----\n",
    "\n",
    "# **`Regular Expressions`**\n",
    "\n",
    "-----\n",
    "\n",
    "\n",
    "\n",
    "## **Regular Expressions in Python**\n",
    "\n",
    "Regular expressions are a powerful tool for searching, matching, and manipulating text. They allow you to specify patterns for strings and provide a flexible way to validate, search, and manipulate text.\n",
    "\n",
    "#### 1. **Introduction to Regular Expressions**\n",
    "\n",
    "- **Definition**: A regular expression is a sequence of characters that defines a search pattern. This pattern can be used for string matching and manipulation.\n",
    "- **Use Cases**: Validating input, searching text, replacing substrings, splitting strings, etc.\n",
    "\n",
    "#### 2. **Python `re` Module**\n",
    "\n",
    "Python provides the `re` module, which contains functions and classes for working with regular expressions.\n",
    "\n",
    "```python\n",
    "import re\n",
    "```\n",
    "\n",
    "#### 3. **Basic Functions in the `re` Module**\n",
    "\n",
    "1. **`re.match(pattern, string)`**\n",
    "   - Checks for a match only at the beginning of the string.\n",
    "   - Returns a match object if found; `None` otherwise.\n",
    "   ```python\n",
    "   result = re.match(r'Hello', 'Hello, World!')\n",
    "   print(result)  # Output: <re.Match object; span=(0, 5), match='Hello'>\n",
    "   ```\n",
    "\n",
    "2. **`re.search(pattern, string)`**\n",
    "   - Searches the entire string for the first match of the pattern.\n",
    "   - Returns a match object if found; `None` otherwise.\n",
    "   ```python\n",
    "   result = re.search(r'World', 'Hello, World!')\n",
    "   print(result)  # Output: <re.Match object; span=(7, 12), match='World'>\n",
    "   ```\n",
    "\n",
    "3. **`re.findall(pattern, string)`**\n",
    "   - Returns a list of all matches of the pattern in the string.\n",
    "   ```python\n",
    "   result = re.findall(r'o', 'Hello, World!')\n",
    "   print(result)  # Output: ['o', 'o']\n",
    "   ```\n",
    "\n",
    "4. **`re.finditer(pattern, string)`**\n",
    "   - Returns an iterator yielding match objects for all matches.\n",
    "   ```python\n",
    "   for match in re.finditer(r'o', 'Hello, World!'):\n",
    "       print(match)  # Outputs each match object\n",
    "   ```\n",
    "\n",
    "5. **`re.sub(pattern, repl, string)`**\n",
    "   - Replaces occurrences of the pattern with a replacement string.\n",
    "   ```python\n",
    "   result = re.sub(r'World', 'Python', 'Hello, World!')\n",
    "   print(result)  # Output: Hello, Python!\n",
    "   ```\n",
    "\n",
    "6. **`re.split(pattern, string)`**\n",
    "   - Splits the string by the occurrences of the pattern.\n",
    "   ```python\n",
    "   result = re.split(r'\\s+', 'Hello World! This is Python.')\n",
    "   print(result)  # Output: ['Hello', 'World!', 'This', 'is', 'Python.']\n",
    "   ```\n",
    "\n",
    "#### 4. **Regular Expression Syntax**\n",
    "\n",
    "- **Literal characters**: Match themselves (e.g., `a`, `1`, `@`).\n",
    "  \n",
    "- **Metacharacters**: Special characters that have a particular meaning:\n",
    "  - `.` : Matches any character except a newline.\n",
    "  - `^` : Matches the start of the string.\n",
    "  - `$` : Matches the end of the string.\n",
    "  - `*` : Matches 0 or more repetitions of the preceding element.\n",
    "  - `+` : Matches 1 or more repetitions of the preceding element.\n",
    "  - `?` : Matches 0 or 1 repetition of the preceding element.\n",
    "  - `{n}` : Matches exactly `n` occurrences of the preceding element.\n",
    "  - `{n,}` : Matches `n` or more occurrences.\n",
    "  - `{n,m}` : Matches between `n` and `m` occurrences.\n",
    "\n",
    "- **Character classes**: Enclosed in square brackets `[]`, matches any single character within the brackets.\n",
    "  - `[abc]` : Matches `a`, `b`, or `c`.\n",
    "  - `[a-z]` : Matches any lowercase letter.\n",
    "  - `[^abc]` : Matches any character except `a`, `b`, or `c`.\n",
    "\n",
    "- **Predefined character classes**:\n",
    "  - `\\d` : Matches any digit (equivalent to `[0-9]`).\n",
    "  - `\\D` : Matches any non-digit.\n",
    "  - `\\w` : Matches any alphanumeric character (equivalent to `[a-zA-Z0-9_]`).\n",
    "  - `\\W` : Matches any non-alphanumeric character.\n",
    "  - `\\s` : Matches any whitespace character (space, tab, newline).\n",
    "  - `\\S` : Matches any non-whitespace character.\n",
    "\n",
    "- **Grouping and capturing**: Use parentheses `()` to group parts of a pattern.\n",
    "  - `(abc)` : Matches the exact string `abc`.\n",
    "  - `(a|b)` : Matches either `a` or `b`.\n",
    "\n",
    "#### 5. **Flags**\n",
    "\n",
    "Flags allow you to modify the behavior of the regex engine. Common flags include:\n",
    "\n",
    "- `re.IGNORECASE` or `re.I`: Ignore case when matching.\n",
    "- `re.MULTILINE` or `re.M`: Changes the behavior of `^` and `$` to match the start and end of each line.\n",
    "- `re.DOTALL` or `re.S`: Makes `.` match any character, including newline.\n",
    "\n",
    "Example of using a flag:\n",
    "```python\n",
    "result = re.search(r'hello', 'Hello, World!', re.IGNORECASE)\n",
    "print(result)  # Output: <re.Match object; ...>\n",
    "```\n",
    "\n",
    "#### 6. **Examples**\n",
    "\n",
    "1. **Validating Email Addresses**:\n",
    "   ```python\n",
    "   email_pattern = r'^[a-zA-Z0-9._%+-]+@[a-zA-Z0-9.-]+\\.[a-zA-Z]{2,}$'\n",
    "   email = 'example@example.com'\n",
    "   print(re.match(email_pattern, email) is not None)  # Output: True\n",
    "   ```\n",
    "\n",
    "2. **Extracting Dates**:\n",
    "   ```python\n",
    "   text = \"Today is 2023-10-26.\"\n",
    "   date_pattern = r'\\d{4}-\\d{2}-\\d{2}'\n",
    "   date = re.search(date_pattern, text)\n",
    "   print(date.group())  # Output: 2023-10-26\n",
    "   ```\n",
    "\n",
    "3. **Replacing Patterns**:\n",
    "   ```python\n",
    "   text = \"My phone number is 123-456-7890.\"\n",
    "   new_text = re.sub(r'\\d{3}-\\d{3}-\\d{4}', 'XXX-XXX-XXXX', text)\n",
    "   print(new_text)  # Output: My phone number is XXX-XXX-XXXX.\n",
    "   ```\n",
    "\n",
    "### **Conclusion**\n",
    "\n",
    "Regular expressions in Python are a powerful tool for text processing and manipulation. Understanding the syntax and functions provided by the `re` module allows you to efficiently search, validate, and manipulate strings based on complex patterns. If you have any specific questions or need further examples, feel free to ask!\n",
    "\n",
    "\n",
    "------\n"
   ]
  },
  {
   "cell_type": "markdown",
   "metadata": {},
   "source": [
    "#### **Let's Practice** \n",
    "\n",
    "----"
   ]
  },
  {
   "cell_type": "markdown",
   "metadata": {},
   "source": [
    "#### **re.match()**\n",
    "\n",
    "   - Checks for a match only at the beginning of the string.\n",
    "   - Returns a match object if found; `None` otherwise."
   ]
  },
  {
   "cell_type": "code",
   "execution_count": 5,
   "metadata": {},
   "outputs": [
    {
     "data": {
      "text/plain": [
       "'1234'"
      ]
     },
     "execution_count": 5,
     "metadata": {},
     "output_type": "execute_result"
    }
   ],
   "source": [
    "import re\n",
    "\n",
    "pattren = r\"\\d+\"   # matches 1 or more digits\n",
    "string = \"1234abc456\"\n",
    "result = re.match(pattren, string)\n",
    "result.group()"
   ]
  },
  {
   "cell_type": "markdown",
   "metadata": {},
   "source": [
    "#### **re.search(pattern, string)**\n",
    "   - Searches the entire string for the first match of the pattern.\n",
    "   - Returns a match object if found; `None` otherwise.\n",
    "   ```python"
   ]
  },
  {
   "cell_type": "code",
   "execution_count": 6,
   "metadata": {},
   "outputs": [
    {
     "data": {
      "text/plain": [
       "'1234'"
      ]
     },
     "execution_count": 6,
     "metadata": {},
     "output_type": "execute_result"
    }
   ],
   "source": [
    "import re\n",
    "\n",
    "pattren = r\"\\d+\"   # matches 1 or more digits\n",
    "string = \"abc1234abc456\"\n",
    "result = re.search(pattren, string)\n",
    "result.group()"
   ]
  },
  {
   "cell_type": "markdown",
   "metadata": {},
   "source": [
    "#### **re.findall(pattern, string)**\n",
    "   - Returns a list of all matches of the pattern in the string."
   ]
  },
  {
   "cell_type": "code",
   "execution_count": 9,
   "metadata": {},
   "outputs": [
    {
     "data": {
      "text/plain": [
       "['1234', '456']"
      ]
     },
     "execution_count": 9,
     "metadata": {},
     "output_type": "execute_result"
    }
   ],
   "source": [
    "import re\n",
    "\n",
    "pattren = r\"\\d+\"   # matches 1 or more digits\n",
    "string = \"abc1234abc456\"\n",
    "result = re.findall(pattren, string)\n",
    "result"
   ]
  },
  {
   "cell_type": "markdown",
   "metadata": {},
   "source": [
    "#### **re.finditer(pattern, string)**\n",
    "   - Returns an iterator yielding match objects for all matches."
   ]
  },
  {
   "cell_type": "code",
   "execution_count": 16,
   "metadata": {},
   "outputs": [
    {
     "name": "stdout",
     "output_type": "stream",
     "text": [
      "123 (3, 6)\n",
      "456 (9, 12)\n",
      "789 (15, 18)\n"
     ]
    }
   ],
   "source": [
    "import re\n",
    "\n",
    "pattren = r\"\\d+\"   # matches 1 or more digits\n",
    "string = \"abc123def456ghi789\"\n",
    "result = re.finditer(pattren, string )\n",
    "\n",
    "for i in result:\n",
    "    print(i.group(), i.span())"
   ]
  },
  {
   "cell_type": "markdown",
   "metadata": {},
   "source": [
    "#### **re.sub(pattern, repl, string)**\n",
    "   - Replaces occurrences of the pattern with a replacement string."
   ]
  },
  {
   "cell_type": "code",
   "execution_count": 17,
   "metadata": {},
   "outputs": [
    {
     "data": {
      "text/plain": [
       "'abc#abc#'"
      ]
     },
     "execution_count": 17,
     "metadata": {},
     "output_type": "execute_result"
    }
   ],
   "source": [
    "import re\n",
    "\n",
    "pattren = r\"\\d+\"   # matches 1 or more digits\n",
    "string = \"abc1234abc456\"\n",
    "result = re.sub(pattren, \"#\" ,string)\n",
    "result"
   ]
  },
  {
   "cell_type": "markdown",
   "metadata": {},
   "source": [
    "#### **re.split(pattern, string)**\n",
    "   - Splits the string by the occurrences of the pattern."
   ]
  },
  {
   "cell_type": "code",
   "execution_count": 19,
   "metadata": {},
   "outputs": [
    {
     "data": {
      "text/plain": [
       "['abc', 'def', 'ijk']"
      ]
     },
     "execution_count": 19,
     "metadata": {},
     "output_type": "execute_result"
    }
   ],
   "source": [
    "import re\n",
    "\n",
    "pattren = r\"\\d+\"   # matches 1 or more digits\n",
    "string = \"abc1234def456ijk\"\n",
    "result = re.split(pattren,string)\n",
    "result"
   ]
  },
  {
   "cell_type": "markdown",
   "metadata": {},
   "source": [
    "\n",
    "### **Common Regex Pattrens**\n",
    " \n",
    "- **Email Validation**: `r\"[a-zA-Z0-9_.+-]+@[a-zA-Z0-9-]+\\.[a-zA-Z0-9-.]+\"`\n",
    "\n",
    "- **URL Validation** : `r\"http[s]?://(?:[a-zA-Z]|[0-9]|[$-_@.&+]|[!*(),]|(?:%[0-9a-fA-F][0-9a-fA-F]))+\"`\n",
    "  \n",
    "- **IP Address Validation**: `r\"\\b\\d{1,3}\\.\\d{1,3}\\.\\d{1,3}\\.\\d{1,3}\\b\"`\n"
   ]
  },
  {
   "cell_type": "markdown",
   "metadata": {},
   "source": [
    "#### **Extracting Email from Text**"
   ]
  },
  {
   "cell_type": "code",
   "execution_count": 26,
   "metadata": {},
   "outputs": [
    {
     "data": {
      "text/plain": [
       "['support@example.com', 'sales@example.co.uk.', 'madlnaeem0@gmail.com']"
      ]
     },
     "execution_count": 26,
     "metadata": {},
     "output_type": "execute_result"
    }
   ],
   "source": [
    "text = \"Please contact us at support@example.com or sales@example.co.uk. or madlnaeem0@gmail.com\"\n",
    "email_pattern = r\"[a-zA-Z0-9_.+-]+@[a-zA-Z0-9-]+\\.[a-zA-Z0-9-.]+\"\n",
    "email=re.findall(email_pattern,text)\n",
    "email"
   ]
  },
  {
   "cell_type": "markdown",
   "metadata": {},
   "source": [
    "#### **Replacing Number With Charaters**"
   ]
  },
  {
   "cell_type": "code",
   "execution_count": 28,
   "metadata": {},
   "outputs": [
    {
     "data": {
      "text/plain": [
       "'+************ this is my phone number.'"
      ]
     },
     "execution_count": 28,
     "metadata": {},
     "output_type": "execute_result"
    }
   ],
   "source": [
    "number = \"+923044181428 this is my phone number.\" \n",
    "re.sub(r\"\\d\",\"*\",number)"
   ]
  },
  {
   "cell_type": "markdown",
   "metadata": {},
   "source": [
    "#### **Splitting a String by Multiple Delimiters**"
   ]
  },
  {
   "cell_type": "code",
   "execution_count": 30,
   "metadata": {},
   "outputs": [
    {
     "data": {
      "text/plain": [
       "['apple', ' orange', ' banana', 'grapes']"
      ]
     },
     "execution_count": 30,
     "metadata": {},
     "output_type": "execute_result"
    }
   ],
   "source": [
    "\n",
    "text = \"apple, orange; banana|grapes\"\n",
    "split_pattern = r\"[,;|]\"\n",
    "fruits = re.split(split_pattern, text )\n",
    "fruits"
   ]
  },
  {
   "cell_type": "markdown",
   "metadata": {},
   "source": [
    "--------"
   ]
  }
 ],
 "metadata": {
  "kernelspec": {
   "display_name": "Python 3",
   "language": "python",
   "name": "python3"
  },
  "language_info": {
   "codemirror_mode": {
    "name": "ipython",
    "version": 3
   },
   "file_extension": ".py",
   "mimetype": "text/x-python",
   "name": "python",
   "nbconvert_exporter": "python",
   "pygments_lexer": "ipython3",
   "version": "3.10.15"
  }
 },
 "nbformat": 4,
 "nbformat_minor": 2
}
