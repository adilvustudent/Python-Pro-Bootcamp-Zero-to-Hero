{
 "cells": [
  {
   "cell_type": "markdown",
   "metadata": {},
   "source": [
    "\n",
    "----\n",
    "\n",
    "# **`Data types In Python (Strings)`**\n",
    "\n",
    "---\n"
   ]
  },
  {
   "cell_type": "markdown",
   "metadata": {},
   "source": [
    "\n",
    "## **Strings in Python**\n",
    "\n",
    "#### **Definition**\n",
    "A **string** in Python is a sequence of characters enclosed in quotes. You can use single quotes (`'`), double quotes (`\"`), triple single quotes (`'''`), or triple double quotes (`\"\"\"`) to define a string.\n",
    "\n",
    "#### **Creating Strings**\n",
    "```python\n",
    "# Using single quotes\n",
    "string1 = 'Hello, World!'\n",
    "\n",
    "# Using double quotes\n",
    "string2 = \"Hello, World!\"\n",
    "\n",
    "# Using triple quotes for multi-line strings\n",
    "string3 = '''This is a\n",
    "multi-line string.'''\n",
    "\n",
    "string4 = \"\"\"This is also\n",
    "a multi-line string.\"\"\"\n",
    "```\n",
    "\n",
    "#### **String Characteristics**\n",
    "- **Immutable**: Strings cannot be changed after they are created. Any modification creates a new string.\n",
    "- **Ordered**: Strings maintain the order of characters, which allows indexing.\n",
    "\n",
    "#### **Accessing Characters**\n",
    "You can access individual characters using indexing:\n",
    "```python\n",
    "s = \"Hello\"\n",
    "print(s[0])  # Output: H\n",
    "print(s[-1]) # Output: o (last character)\n",
    "```\n",
    "\n",
    "#### **Slicing Strings**\n",
    "Strings can be sliced to extract a substring:\n",
    "```python\n",
    "s = \"Hello, World!\"\n",
    "print(s[0:5])  # Output: Hello\n",
    "print(s[7:])   # Output: World!\n",
    "print(s[:5])   # Output: Hello\n",
    "print(s[::2])  # Output: Hlo ol!\n",
    "```\n",
    "\n",
    "### **Common String Methods**\n",
    "\n",
    "1. **Length of a String**: Use `len()`\n",
    "   ```python\n",
    "   s = \"Hello\"\n",
    "   print(len(s))  # Output: 5\n",
    "   ```\n",
    "\n",
    "2. **Changing Case**:\n",
    "   - `upper()`: Converts to uppercase\n",
    "   - `lower()`: Converts to lowercase\n",
    "   - `title()`: Capitalizes the first letter of each word\n",
    "   ```python\n",
    "   s = \"hello\"\n",
    "   print(s.upper())  # Output: HELLO\n",
    "   print(s.title())  # Output: Hello\n",
    "   ```\n",
    "\n",
    "3. **Finding Substrings**:\n",
    "   - `find()`: Returns the index of the first occurrence, or -1 if not found\n",
    "   - `count()`: Returns the number of occurrences of a substring\n",
    "   ```python\n",
    "   s = \"Hello, World!\"\n",
    "   print(s.find(\"World\"))  # Output: 7\n",
    "   print(s.count(\"o\"))     # Output: 2\n",
    "   ```\n",
    "\n",
    "4. **Replacing Substrings**:\n",
    "   - `replace()`: Replaces occurrences of a substring with another substring\n",
    "   ```python\n",
    "   s = \"Hello, World!\"\n",
    "   print(s.replace(\"World\", \"Python\"))  # Output: Hello, Python!\n",
    "   ```\n",
    "\n",
    "5. **Trimming Whitespace**:\n",
    "   - `strip()`: Removes whitespace from both ends\n",
    "   - `lstrip()`: Removes whitespace from the left end\n",
    "   - `rstrip()`: Removes whitespace from the right end\n",
    "   ```python\n",
    "   s = \"   Hello, World!   \"\n",
    "   print(s.strip())  # Output: Hello, World!\n",
    "   ```\n",
    "\n",
    "6. **Joining Strings**:\n",
    "   - `join()`: Joins elements of an iterable with a specified separator\n",
    "   ```python\n",
    "   words = [\"Hello\", \"World\"]\n",
    "   sentence = \" \".join(words)\n",
    "   print(sentence)  # Output: Hello World\n",
    "   ```\n",
    "\n",
    "7. **Splitting Strings**:\n",
    "   - `split()`: Splits a string into a list based on a specified delimiter\n",
    "   ```python\n",
    "   s = \"Hello, World!\"\n",
    "   print(s.split(\",\"))  # Output: ['Hello', ' World!']\n",
    "   ```\n",
    "\n",
    "### **String Formatting**\n",
    "\n",
    "1. **Old-style formatting**:\n",
    "   ```python\n",
    "   name = \"Alice\"\n",
    "   age = 30\n",
    "   print(\"My name is %s and I am %d years old.\" % (name, age))\n",
    "   ```\n",
    "\n",
    "2. **New-style formatting**:\n",
    "   ```python\n",
    "   print(\"My name is {} and I am {} years old.\".format(name, age))\n",
    "   ```\n",
    "\n",
    "3. **F-strings (Python 3.6+)**:\n",
    "   ```python\n",
    "   print(f\"My name is {name} and I am {age} years old.\")\n",
    "   ```\n",
    "\n",
    "### **Escape Characters**\n",
    "Use backslashes (`\\`) to introduce special characters:\n",
    "- `\\'`: Single quote\n",
    "- `\\\"`: Double quote\n",
    "- `\\\\`: Backslash\n",
    "- `\\n`: New line\n",
    "- `\\t`: Tab\n",
    "```python\n",
    "s = \"She said, \\\"Hello!\\\"\\nHow are you?\"\n",
    "print(s)\n",
    "```\n",
    "\n",
    "### **Conclusion**\n",
    "Strings are a fundamental data type in Python, providing a rich set of methods for manipulation. Understanding how to work with strings is crucial for effective programming in Python. Feel free to ask if you have any questions or need further clarification!"
   ]
  },
  {
   "cell_type": "markdown",
   "metadata": {
    "vscode": {
     "languageId": "plaintext"
    }
   },
   "source": [
    "### **Let's Do Little Practice**"
   ]
  },
  {
   "cell_type": "code",
   "execution_count": 4,
   "metadata": {},
   "outputs": [],
   "source": [
    "name = 'Adil' # single or double quotes"
   ]
  },
  {
   "cell_type": "code",
   "execution_count": 5,
   "metadata": {},
   "outputs": [],
   "source": [
    "name1 = \"Adil\""
   ]
  },
  {
   "cell_type": "code",
   "execution_count": 9,
   "metadata": {},
   "outputs": [],
   "source": [
    "# Multi line string\n",
    "name2 = \"\"\"My name is \n",
    "Adil\n",
    "\"\"\""
   ]
  },
  {
   "cell_type": "code",
   "execution_count": 3,
   "metadata": {},
   "outputs": [
    {
     "data": {
      "text/plain": [
       "str"
      ]
     },
     "execution_count": 3,
     "metadata": {},
     "output_type": "execute_result"
    }
   ],
   "source": [
    "type(name)"
   ]
  },
  {
   "cell_type": "code",
   "execution_count": 10,
   "metadata": {},
   "outputs": [
    {
     "data": {
      "text/plain": [
       "14"
      ]
     },
     "execution_count": 10,
     "metadata": {},
     "output_type": "execute_result"
    }
   ],
   "source": [
    "c = \"Learning Logic\"\n",
    "\n",
    "len(c)"
   ]
  },
  {
   "cell_type": "code",
   "execution_count": 15,
   "metadata": {},
   "outputs": [
    {
     "name": "stdout",
     "output_type": "stream",
     "text": [
      "l\n"
     ]
    }
   ],
   "source": [
    "c = \"Learning logic\"\n",
    "\n",
    "print(c[-5])"
   ]
  },
  {
   "cell_type": "code",
   "execution_count": 14,
   "metadata": {},
   "outputs": [
    {
     "name": "stdout",
     "output_type": "stream",
     "text": [
      "Learning ogic\n"
     ]
    }
   ],
   "source": [
    "c = \"Learning logic\"\n",
    "c = c.replace(c[9], \"\")  # Removes the character at index 9\n",
    "print(c)  # Output: \"Learning ogic\""
   ]
  },
  {
   "cell_type": "markdown",
   "metadata": {},
   "source": [
    "----"
   ]
  }
 ],
 "metadata": {
  "kernelspec": {
   "display_name": "Python 3",
   "language": "python",
   "name": "python3"
  },
  "language_info": {
   "codemirror_mode": {
    "name": "ipython",
    "version": 3
   },
   "file_extension": ".py",
   "mimetype": "text/x-python",
   "name": "python",
   "nbconvert_exporter": "python",
   "pygments_lexer": "ipython3",
   "version": "3.10.15"
  }
 },
 "nbformat": 4,
 "nbformat_minor": 2
}
