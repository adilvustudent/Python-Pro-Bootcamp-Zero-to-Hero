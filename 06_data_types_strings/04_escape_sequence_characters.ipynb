{
 "cells": [
  {
   "cell_type": "markdown",
   "metadata": {},
   "source": [
    "\n",
    "-----\n",
    "\n",
    "# **`Escape Sequence Characters`**\n",
    "\n",
    "-----\n",
    "\n"
   ]
  },
  {
   "cell_type": "markdown",
   "metadata": {},
   "source": [
    "\n",
    "### **Escape Sequence Characters in Python**\n",
    "\n",
    "Escape sequences are special characters in strings that allow you to represent characters that cannot be easily typed or that have special meanings. They start with a backslash (`\\`) followed by a character.\n",
    "\n",
    "#### **Common Escape Sequence**s\n",
    "\n",
    "| Escape Sequence | Description                               | Example Output                     |\n",
    "|------------------|-------------------------------------------|------------------------------------|\n",
    "| `\\'`             | Single quote                             | `It\\'s a test.` → It’s a test.    |\n",
    "| `\\\"`             | Double quote                             | `He said, \\\"Hello!\\\"` → He said, \"Hello!\" |\n",
    "| `\\\\`             | Backslash                                | `C:\\\\Users\\\\Name` → C:\\Users\\Name |\n",
    "| `\\n`             | Newline (line break)                     | `Hello\\nWorld` → Hello (newline) World |\n",
    "| `\\t`             | Horizontal tab                           | `Hello\\tWorld` → Hello    World   |\n",
    "| `\\r`             | Carriage return                          | Moves the cursor to the beginning of the line. |\n",
    "| `\\b`             | Backspace                                | `Hello\\bWorld` → HellWorld (removes the last character) |\n",
    "| `\\f`             | Form feed                                | Used in printing, advances to the next page. |\n",
    "| `\\v`             | Vertical tab                             | Moves the cursor down to the next vertical tab stop. |\n",
    "| `\\a`             | ASCII Bell (alert)                      | Triggers an alert sound (if supported). |\n",
    "| `\\0`             | Null character                           | Represents the null character. |\n",
    "| `\\uxxxx`        | Unicode character (16-bit hex)          | `\\u03A9` → Ω (Greek letter Omega) |\n",
    "| `\\Uxxxxxxxx`    | Unicode character (32-bit hex)          | `\\U0001F600` → 😀 (grinning face emoji) |\n",
    "| `\\N{name}`      | Named Unicode character                  | `\\N{GREEK CAPITAL LETTER OMEGA}` → Ω |\n",
    "\n",
    "### **Usage of Escape Sequences**\n",
    "\n",
    "Escape sequences are often used in string literals to format text output or to include special characters that would otherwise cause errors or unintended behavior.\n",
    "\n",
    "#### **Examples**\n",
    "\n",
    "1. **Single and Double Quotes**:\n",
    "   ```python\n",
    "   print('It\\'s a sunny day!')  # Output: It's a sunny day!\n",
    "   print(\"He said, \\\"Python is great!\\\"\")  # Output: He said, \"Python is great!\"\n",
    "   ```\n",
    "\n",
    "2. **Backslash**:\n",
    "   ```python\n",
    "   print(\"This is a backslash: \\\\\")  # Output: This is a backslash: \\\n",
    "   ```\n",
    "\n",
    "3. **Newlines**:\n",
    "   ```python\n",
    "   print(\"Line 1\\nLine 2\")  \n",
    "   # Output:\n",
    "   # Line 1\n",
    "   # Line 2\n",
    "   ```\n",
    "\n",
    "4. **Tabs**:\n",
    "   ```python\n",
    "   print(\"Column 1\\tColumn 2\")  # Output: Column 1    Column 2\n",
    "   ```\n",
    "\n",
    "5. **Carriage Return**:\n",
    "   ```python\n",
    "   print(\"Hello, World!\\rGoodbye!\")  # Output: Goodbye! (overwrites Hello, World!)\n",
    "   ```\n",
    "\n",
    "6. **Backspace**:\n",
    "   ```python\n",
    "   print(\"Hello\\bWorld\")  # Output: HellWorld (removes 'o')\n",
    "   ```\n",
    "\n",
    "7. **Unicode Characters**:\n",
    "   ```python\n",
    "   print(\"\\u03A9\")  # Output: Ω (Greek letter Omega)\n",
    "   print(\"\\U0001F600\")  # Output: 😀 (grinning face emoji)\n",
    "   ```\n",
    "\n",
    "8. **Named Unicode Characters**:\n",
    "   ```python\n",
    "   print(\"\\N{GREEK CAPITAL LETTER OMEGA}\")  # Output: Ω\n",
    "   ```\n",
    "\n",
    "### **Conclusion**\n",
    "\n",
    "Escape sequences are essential for handling special characters in strings in Python. They provide a way to include characters that would otherwise be difficult to represent. Understanding and using escape sequences effectively can enhance your string handling capabilities. If you have any questions or need further examples, feel free to ask!\n",
    "\n",
    "-----\n"
   ]
  },
  {
   "cell_type": "markdown",
   "metadata": {},
   "source": [
    "### **Let's Practice**\n",
    "\n",
    "----"
   ]
  },
  {
   "cell_type": "markdown",
   "metadata": {},
   "source": [
    "#### **\\n - new line**"
   ]
  },
  {
   "cell_type": "code",
   "execution_count": 1,
   "metadata": {},
   "outputs": [
    {
     "data": {
      "text/plain": [
       "'this is our \\n python course'"
      ]
     },
     "execution_count": 1,
     "metadata": {},
     "output_type": "execute_result"
    }
   ],
   "source": [
    "\"this is our \\n python course\" # it will not work because it is a string"
   ]
  },
  {
   "cell_type": "code",
   "execution_count": 5,
   "metadata": {},
   "outputs": [
    {
     "name": "stdout",
     "output_type": "stream",
     "text": [
      "This is our's python course.\n"
     ]
    }
   ],
   "source": [
    "# It will only work with print function\n",
    "\n",
    "print(\"This is our\\'s python course.\")"
   ]
  },
  {
   "cell_type": "markdown",
   "metadata": {},
   "source": [
    "#### **\\t - tab**"
   ]
  },
  {
   "cell_type": "code",
   "execution_count": 6,
   "metadata": {},
   "outputs": [
    {
     "name": "stdout",
     "output_type": "stream",
     "text": [
      "My name is Adil\tNaeem.\n"
     ]
    }
   ],
   "source": [
    "print(\"My name is Adil\\tNaeem.\")"
   ]
  },
  {
   "cell_type": "markdown",
   "metadata": {},
   "source": [
    "#### **\\\\\\  -Backslash**"
   ]
  },
  {
   "cell_type": "code",
   "execution_count": 7,
   "metadata": {},
   "outputs": [
    {
     "name": "stdout",
     "output_type": "stream",
     "text": [
      "My\\name\\is\\Adil\\Naeem.\n"
     ]
    }
   ],
   "source": [
    "print(\"My\\\\name\\\\is\\\\Adil\\\\Naeem.\")"
   ]
  },
  {
   "cell_type": "markdown",
   "metadata": {},
   "source": [
    "#### **\\\\' - Single Quotes**"
   ]
  },
  {
   "cell_type": "code",
   "execution_count": 12,
   "metadata": {},
   "outputs": [
    {
     "name": "stdout",
     "output_type": "stream",
     "text": [
      "Right now I am 'Practicing Python'.\n"
     ]
    }
   ],
   "source": [
    "print('Right now I am \\'Practicing Python\\'.')"
   ]
  },
  {
   "cell_type": "markdown",
   "metadata": {},
   "source": [
    "#### **\\\\\\ ''  -Backslash**"
   ]
  },
  {
   "cell_type": "code",
   "execution_count": 13,
   "metadata": {},
   "outputs": [
    {
     "name": "stdout",
     "output_type": "stream",
     "text": [
      "Right now I am \"Practicing Python\".\n"
     ]
    }
   ],
   "source": [
    "print(\"Right now I am \\\"Practicing Python\\\".\")"
   ]
  },
  {
   "cell_type": "markdown",
   "metadata": {},
   "source": [
    "#### **\\r - Carriage return**"
   ]
  },
  {
   "cell_type": "code",
   "execution_count": 17,
   "metadata": {},
   "outputs": [
    {
     "name": "stdout",
     "output_type": "stream",
     "text": [
      "Practicing Python\n"
     ]
    }
   ],
   "source": [
    "print(\"Right now I am \\rPracticing Python\\r\")"
   ]
  },
  {
   "cell_type": "markdown",
   "metadata": {},
   "source": [
    "#### **\\b - backspace**"
   ]
  },
  {
   "cell_type": "code",
   "execution_count": 19,
   "metadata": {},
   "outputs": [
    {
     "name": "stdout",
     "output_type": "stream",
     "text": [
      "Right now I am Practicing Pytho\n"
     ]
    }
   ],
   "source": [
    "print(\"Right now I am \\b Practicing Python\\b\")"
   ]
  },
  {
   "cell_type": "markdown",
   "metadata": {},
   "source": [
    "------"
   ]
  }
 ],
 "metadata": {
  "kernelspec": {
   "display_name": "Python 3",
   "language": "python",
   "name": "python3"
  },
  "language_info": {
   "codemirror_mode": {
    "name": "ipython",
    "version": 3
   },
   "file_extension": ".py",
   "mimetype": "text/x-python",
   "name": "python",
   "nbconvert_exporter": "python",
   "pygments_lexer": "ipython3",
   "version": "3.10.15"
  }
 },
 "nbformat": 4,
 "nbformat_minor": 2
}
