{
 "cells": [
  {
   "cell_type": "markdown",
   "metadata": {},
   "source": [
    "\n",
    "-----\n",
    "\n",
    "# **`String Important Question`**\n",
    "\n",
    "-------\n",
    "\n"
   ]
  },
  {
   "cell_type": "markdown",
   "metadata": {},
   "source": [
    "**Question 1.** **What are methods to check if a string contains only alphabets, only digits, or both in python?**\n",
    "\n",
    "- `isalpha()` : Returns `True` if all characters in string are alphabet.\n",
    "- `isdigit()` : Returns `True` if all characters in string are digits.\n",
    "- `isalnum()` : Returns `True` if all characters in string are either alphabets or digits."
   ]
  },
  {
   "cell_type": "code",
   "execution_count": 5,
   "metadata": {},
   "outputs": [
    {
     "name": "stdout",
     "output_type": "stream",
     "text": [
      "True\n",
      "False\n",
      "True\n"
     ]
    }
   ],
   "source": [
    "s1 = 'Hello'\n",
    "s2 = \"12345\"\n",
    "s2 = 'Hello12345'\n",
    "print(s1.isalpha())\n",
    "print(s2.isdigit())\n",
    "print(s1.isalnum())"
   ]
  },
  {
   "cell_type": "markdown",
   "metadata": {},
   "source": [
    "\n",
    "----\n",
    "\n",
    "**Question 2. How does string Formatting methods `format()`, `f-strings` operater differ in Python?**"
   ]
  },
  {
   "cell_type": "markdown",
   "metadata": {},
   "source": [
    "- `format()` : Uses Curley braces `{}` as parameters which are replced with values."
   ]
  },
  {
   "cell_type": "code",
   "execution_count": 3,
   "metadata": {},
   "outputs": [
    {
     "name": "stdout",
     "output_type": "stream",
     "text": [
      "My name is Adil and I am 21 years old.\n"
     ]
    }
   ],
   "source": [
    "name = \"Adil\"\n",
    "age = \"21\"\n",
    "\n",
    "print(\"My name is {} and I am {} years old.\".format(name,age))"
   ]
  },
  {
   "cell_type": "markdown",
   "metadata": {},
   "source": [
    "- `f-strings` : Prefixed  with `f` or  `F` and allows expressions inside curley braces `{}`."
   ]
  },
  {
   "cell_type": "code",
   "execution_count": 5,
   "metadata": {},
   "outputs": [
    {
     "name": "stdout",
     "output_type": "stream",
     "text": [
      "My name is Adil and I am 21 years old.\n"
     ]
    }
   ],
   "source": [
    "name = \"Adil\"\n",
    "age = \"21\"\n",
    "\n",
    "print(f\"My name is {name} and I am {age} years old.\")"
   ]
  },
  {
   "cell_type": "markdown",
   "metadata": {},
   "source": [
    "----\n",
    "\n",
    "**Question 3 : What are raw strings and how they are different from regular Strings?**\n",
    "\n",
    "- Raw strings are prefixed with `r` or `R` and treat backslashes (`\\`) as a litrels characters. This is useful for Dealing with regular Expressions or file Paths where backslashes are common. "
   ]
  },
  {
   "cell_type": "code",
   "execution_count": 6,
   "metadata": {},
   "outputs": [
    {
     "name": "stdout",
     "output_type": "stream",
     "text": [
      "E:\\Python Pro Bootcamp Zero to Hero\\06_data_types_strings\\06_string_important_qustions.ipynb\n",
      "E:\\Python Pro Bootcamp Zero to Hero\u0006_data_types_strings\u0006_string_important_qustions.ipynb\n"
     ]
    }
   ],
   "source": [
    "raw_string = r\"E:\\Python Pro Bootcamp Zero to Hero\\06_data_types_strings\\06_string_important_qustions.ipynb\"\n",
    "regular_string = \"E:\\Python Pro Bootcamp Zero to Hero\\06_data_types_strings\\06_string_important_qustions.ipynb\"\n",
    "\n",
    "print(raw_string)\n",
    "print(regular_string)"
   ]
  },
  {
   "cell_type": "markdown",
   "metadata": {},
   "source": [
    "\n",
    "------\n",
    "\n",
    "**Question 4 : What is difference Between `find()` and `inex()` methods in python?**\n",
    "\n",
    "- Both `find()` and `index()` methods are used to locate the position of a substring within a string.\n",
    "\n",
    "- `find()` : Returns the Lowest index of substring if it is found otherwise it returns `-1`.\n",
    "\n",
    "- `index()` : Returns the lowest index of substring if it is found, but it raises a `ValueError` if the substring is not found."
   ]
  },
  {
   "cell_type": "code",
   "execution_count": 11,
   "metadata": {},
   "outputs": [
    {
     "name": "stdout",
     "output_type": "stream",
     "text": [
      "7\n",
      "7\n",
      "-1\n"
     ]
    }
   ],
   "source": [
    "s = \"Hello, World!\"\n",
    "print(s.find(\"World\"))\n",
    "print(s.index(\"World\"))\n",
    "print(s.find(\"Python\"))\n",
    "# print(s.index(\"Python\")) # raise error"
   ]
  },
  {
   "cell_type": "code",
   "execution_count": null,
   "metadata": {},
   "outputs": [],
   "source": []
  },
  {
   "cell_type": "code",
   "execution_count": null,
   "metadata": {},
   "outputs": [],
   "source": []
  },
  {
   "cell_type": "code",
   "execution_count": null,
   "metadata": {},
   "outputs": [],
   "source": []
  },
  {
   "cell_type": "code",
   "execution_count": null,
   "metadata": {},
   "outputs": [],
   "source": []
  },
  {
   "cell_type": "markdown",
   "metadata": {},
   "source": [
    "------"
   ]
  }
 ],
 "metadata": {
  "kernelspec": {
   "display_name": "Python 3",
   "language": "python",
   "name": "python3"
  },
  "language_info": {
   "codemirror_mode": {
    "name": "ipython",
    "version": 3
   },
   "file_extension": ".py",
   "mimetype": "text/x-python",
   "name": "python",
   "nbconvert_exporter": "python",
   "pygments_lexer": "ipython3",
   "version": "3.10.15"
  }
 },
 "nbformat": 4,
 "nbformat_minor": 2
}
