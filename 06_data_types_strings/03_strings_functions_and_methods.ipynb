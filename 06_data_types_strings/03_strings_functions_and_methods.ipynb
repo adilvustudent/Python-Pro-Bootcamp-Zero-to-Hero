{
 "cells": [
  {
   "cell_type": "markdown",
   "metadata": {},
   "source": [
    "\n",
    "-----\n",
    "\n",
    "# **`String Functions and Methods in Python`**\n",
    "\n",
    "----\n"
   ]
  },
  {
   "cell_type": "markdown",
   "metadata": {},
   "source": [
    "\n",
    "\n",
    "### **String Functions and Methods in Python**\n",
    "\n",
    "#### 1. **String Functions**\n",
    "\n",
    "These are built-in functions that can be applied to strings:\n",
    "\n",
    "- **`len()`**\n",
    "  - Returns the number of characters in a string.\n",
    "  ```python\n",
    "  s = \"Hello\"\n",
    "  print(len(s))  # Output: 5\n",
    "  ```\n",
    "\n",
    "- **`str()`**\n",
    "  - Converts an object to a string.\n",
    "  ```python\n",
    "  num = 123\n",
    "  s = str(num)\n",
    "  print(s)  # Output: '123'\n",
    "  ```\n",
    "\n",
    "#### 2. **String Methods**\n",
    "\n",
    "String methods are functions that are called on string objects. Here are some of the most commonly used string methods:\n",
    "\n",
    "##### a. **Case Modification Methods**\n",
    "- **`upper()`**\n",
    "  - Converts all characters to uppercase.\n",
    "  ```python\n",
    "  s = \"hello\"\n",
    "  print(s.upper())  # Output: 'HELLO'\n",
    "  ```\n",
    "\n",
    "- **`lower()`**\n",
    "  - Converts all characters to lowercase.\n",
    "  ```python\n",
    "  s = \"HELLO\"\n",
    "  print(s.lower())  # Output: 'hello'\n",
    "  ```\n",
    "\n",
    "- **`title()`**\n",
    "  - Capitalizes the first character of each word.\n",
    "  ```python\n",
    "  s = \"hello world\"\n",
    "  print(s.title())  # Output: 'Hello World'\n",
    "  ```\n",
    "\n",
    "- **`capitalize()`**\n",
    "  - Capitalizes the first character of the string.\n",
    "  ```python\n",
    "  s = \"hello world\"\n",
    "  print(s.capitalize())  # Output: 'Hello world'\n",
    "  ```\n",
    "\n",
    "##### b. **Whitespace Methods**\n",
    "- **`strip()`**\n",
    "  - Removes leading and trailing whitespace.\n",
    "  ```python\n",
    "  s = \"   Hello, World!   \"\n",
    "  print(s.strip())  # Output: 'Hello, World!'\n",
    "  ```\n",
    "\n",
    "- **`lstrip()`**\n",
    "  - Removes leading whitespace.\n",
    "  ```python\n",
    "  s = \"   Hello, World!   \"\n",
    "  print(s.lstrip())  # Output: 'Hello, World!   '\n",
    "  ```\n",
    "\n",
    "- **`rstrip()`**\n",
    "  - Removes trailing whitespace.\n",
    "  ```python\n",
    "  s = \"   Hello, World!   \"\n",
    "  print(s.rstrip())  # Output: '   Hello, World!'\n",
    "  ```\n",
    "\n",
    "##### c. **Searching and Finding**\n",
    "- **`find(substring)`**\n",
    "  - Returns the index of the first occurrence of `substring`, or -1 if not found.\n",
    "  ```python\n",
    "  s = \"Hello, World!\"\n",
    "  print(s.find(\"World\"))  # Output: 7\n",
    "  ```\n",
    "\n",
    "- **`rfind(substring)`**\n",
    "  - Returns the index of the last occurrence of `substring`, or -1 if not found.\n",
    "  ```python\n",
    "  s = \"Hello, World! Hello!\"\n",
    "  print(s.rfind(\"Hello\"))  # Output: 13\n",
    "  ```\n",
    "\n",
    "- **`count(substring)`**\n",
    "  - Returns the number of occurrences of `substring`.\n",
    "  ```python\n",
    "  s = \"Hello, World!\"\n",
    "  print(s.count(\"o\"))  # Output: 2\n",
    "  ```\n",
    "\n",
    "##### d. **Replacing**\n",
    "- **`replace(old, new)`**\n",
    "  - Replaces occurrences of `old` with `new`.\n",
    "  ```python\n",
    "  s = \"Hello, World!\"\n",
    "  print(s.replace(\"World\", \"Python\"))  # Output: 'Hello, Python!'\n",
    "  ```\n",
    "\n",
    "##### e. **Joining and Splitting**\n",
    "- **`join(iterable)`**\n",
    "  - Joins elements of an iterable into a single string using the string as a separator.\n",
    "  ```python\n",
    "  words = [\"Hello\", \"World\"]\n",
    "  print(\" \".join(words))  # Output: 'Hello World'\n",
    "  ```\n",
    "\n",
    "- **`split(separator)`**\n",
    "  - Splits the string into a list of substrings based on the specified separator.\n",
    "  ```python\n",
    "  s = \"Hello, World!\"\n",
    "  print(s.split(\",\"))  # Output: ['Hello', ' World!']\n",
    "  ```\n",
    "\n",
    "- **`rsplit(separator)`**\n",
    "  - Splits the string from the right.\n",
    "  ```python\n",
    "  s = \"Hello, World, Python!\"\n",
    "  print(s.rsplit(\",\", 1))  # Output: ['Hello, World', ' Python!']\n",
    "  ```\n",
    "\n",
    "##### f. **Format and Interpolation**\n",
    "- **`format(*args, **kwargs)`**\n",
    "  - Formats a string using placeholders.\n",
    "  ```python\n",
    "  name = \"Alice\"\n",
    "  age = 30\n",
    "  print(\"My name is {} and I am {} years old.\".format(name, age))\n",
    "  ```\n",
    "\n",
    "- **`f-strings (Python 3.6+)`**\n",
    "  - A more concise way to embed expressions inside string literals.\n",
    "  ```python\n",
    "  print(f\"My name is {name} and I am {age} years old.\")\n",
    "  ```\n",
    "\n",
    "##### g. **Checking String Properties**\n",
    "- **`startswith(prefix)`**\n",
    "  - Returns `True` if the string starts with the specified prefix.\n",
    "  ```python\n",
    "  s = \"Hello, World!\"\n",
    "  print(s.startswith(\"Hello\"))  # Output: True\n",
    "  ```\n",
    "\n",
    "- **`endswith(suffix)`**\n",
    "  - Returns `True` if the string ends with the specified suffix.\n",
    "  ```python\n",
    "  s = \"Hello, World!\"\n",
    "  print(s.endswith(\"!\"))  # Output: True\n",
    "  ```\n",
    "\n",
    "- **`isalnum()`**\n",
    "  - Returns `True` if all characters in the string are alphanumeric.\n",
    "  ```python\n",
    "  s = \"Hello123\"\n",
    "  print(s.isalnum())  # Output: True\n",
    "  ```\n",
    "\n",
    "- **`isalpha()`**\n",
    "  - Returns `True` if all characters in the string are alphabetic.\n",
    "  ```python\n",
    "  s = \"Hello\"\n",
    "  print(s.isalpha())  # Output: True\n",
    "  ```\n",
    "\n",
    "- **`isdigit()`**\n",
    "  - Returns `True` if all characters in the string are digits.\n",
    "  ```python\n",
    "  s = \"12345\"\n",
    "  print(s.isdigit())  # Output: True\n",
    "  ```\n",
    "\n",
    "- **`isspace()`**\n",
    "  - Returns `True` if all characters in the string are whitespace.\n",
    "  ```python\n",
    "  s = \"   \"\n",
    "  print(s.isspace())  # Output: True\n",
    "  ```\n",
    "\n",
    "### **Conclusion**\n",
    "\n",
    "Strings in Python come with a variety of built-in functions and methods that allow for extensive manipulation and formatting. Understanding these methods is crucial for effective string handling in Python programming. If you have any specific questions or need examples for certain methods, feel free to ask!\n",
    "\n",
    "-----\n"
   ]
  },
  {
   "cell_type": "markdown",
   "metadata": {},
   "source": [
    "### **Let's Practice**"
   ]
  },
  {
   "cell_type": "markdown",
   "metadata": {},
   "source": [
    "#### **Built in Functions**"
   ]
  },
  {
   "cell_type": "code",
   "execution_count": 60,
   "metadata": {},
   "outputs": [
    {
     "data": {
      "text/plain": [
       "10"
      ]
     },
     "execution_count": 60,
     "metadata": {},
     "output_type": "execute_result"
    }
   ],
   "source": [
    "a = \"adil naeem\"\n",
    "len(a)"
   ]
  },
  {
   "cell_type": "markdown",
   "metadata": {},
   "source": [
    "#### **Srting Methods**"
   ]
  },
  {
   "cell_type": "code",
   "execution_count": 8,
   "metadata": {},
   "outputs": [
    {
     "name": "stdout",
     "output_type": "stream",
     "text": [
      "ADIL NAEEM\n"
     ]
    }
   ],
   "source": [
    "# Upper\n",
    "\n",
    "a = \"adil naeem\"\n",
    "\n",
    "print(a.upper())"
   ]
  },
  {
   "cell_type": "code",
   "execution_count": 9,
   "metadata": {},
   "outputs": [
    {
     "name": "stdout",
     "output_type": "stream",
     "text": [
      "adil naeem\n"
     ]
    }
   ],
   "source": [
    "# lower\n",
    "\n",
    "a = \"Adil Naeem\"\n",
    "\n",
    "print(a.lower())"
   ]
  },
  {
   "cell_type": "code",
   "execution_count": 10,
   "metadata": {},
   "outputs": [
    {
     "name": "stdout",
     "output_type": "stream",
     "text": [
      "Adil naeem\n"
     ]
    }
   ],
   "source": [
    "# Capitalize\n",
    "\n",
    "a = \"adil naeem\"\n",
    "\n",
    "print(a.capitalize())"
   ]
  },
  {
   "cell_type": "code",
   "execution_count": 11,
   "metadata": {},
   "outputs": [
    {
     "name": "stdout",
     "output_type": "stream",
     "text": [
      "Adil Naeem\n"
     ]
    }
   ],
   "source": [
    "# Title\n",
    "\n",
    "a = \"adil naeem\"\n",
    "\n",
    "print(a.title())"
   ]
  },
  {
   "cell_type": "code",
   "execution_count": 12,
   "metadata": {},
   "outputs": [
    {
     "name": "stdout",
     "output_type": "stream",
     "text": [
      "aDIL nAEEM\n"
     ]
    }
   ],
   "source": [
    "# Swapcase\n",
    "\n",
    "a = \"Adil Naeem\"\n",
    "\n",
    "print(a.swapcase())"
   ]
  },
  {
   "cell_type": "markdown",
   "metadata": {},
   "source": [
    "#### **String Checking**"
   ]
  },
  {
   "cell_type": "code",
   "execution_count": 17,
   "metadata": {},
   "outputs": [
    {
     "name": "stdout",
     "output_type": "stream",
     "text": [
      "True\n"
     ]
    }
   ],
   "source": [
    "# Isalpha (This method checks if all the characters in the string are alphabets)\n",
    "\n",
    "a = \"adilnaeem\"\n",
    "\n",
    "print(a.isalpha())"
   ]
  },
  {
   "cell_type": "code",
   "execution_count": 18,
   "metadata": {},
   "outputs": [
    {
     "name": "stdout",
     "output_type": "stream",
     "text": [
      "True\n"
     ]
    }
   ],
   "source": [
    "# Isalnum \n",
    "\n",
    "a = \"adilnaeem5\"\n",
    "\n",
    "print(a.isalnum())"
   ]
  },
  {
   "cell_type": "markdown",
   "metadata": {},
   "source": [
    "#### **String Searching**"
   ]
  },
  {
   "cell_type": "code",
   "execution_count": 20,
   "metadata": {},
   "outputs": [
    {
     "data": {
      "text/plain": [
       "'Adil Naeem'"
      ]
     },
     "execution_count": 20,
     "metadata": {},
     "output_type": "execute_result"
    }
   ],
   "source": [
    "# strip\n",
    "\n",
    "str = \"  Adil Naeem  \"\n",
    "\n",
    "str.strip()\n"
   ]
  },
  {
   "cell_type": "code",
   "execution_count": 21,
   "metadata": {},
   "outputs": [
    {
     "data": {
      "text/plain": [
       "'Adil Naeem'"
      ]
     },
     "execution_count": 21,
     "metadata": {},
     "output_type": "execute_result"
    }
   ],
   "source": [
    "# lstrip\n",
    "\n",
    "str = \"  Adil Naeem\"\n",
    "\n",
    "str.lstrip()\n"
   ]
  },
  {
   "cell_type": "code",
   "execution_count": 22,
   "metadata": {},
   "outputs": [
    {
     "data": {
      "text/plain": [
       "'Adil Naeem'"
      ]
     },
     "execution_count": 22,
     "metadata": {},
     "output_type": "execute_result"
    }
   ],
   "source": [
    "# rstrip\n",
    "\n",
    "str = \"Adil Naeem  \"\n",
    "\n",
    "str.rstrip()\n"
   ]
  },
  {
   "cell_type": "code",
   "execution_count": 24,
   "metadata": {},
   "outputs": [
    {
     "data": {
      "text/plain": [
       "'Muhammad Adil Naeem'"
      ]
     },
     "execution_count": 24,
     "metadata": {},
     "output_type": "execute_result"
    }
   ],
   "source": [
    "# replace\n",
    "\n",
    "str = \"Adil Naeem\"\n",
    "\n",
    "str.replace(\"Adil\",\"Muhammad Adil\")"
   ]
  },
  {
   "cell_type": "code",
   "execution_count": 28,
   "metadata": {},
   "outputs": [
    {
     "data": {
      "text/plain": [
       "['Adil', 'Naeem']"
      ]
     },
     "execution_count": 28,
     "metadata": {},
     "output_type": "execute_result"
    }
   ],
   "source": [
    "# split (This method splits a string into a list based on a specified delimiter)\n",
    "\n",
    "str = \"Adil Naeem  \"\n",
    "str.split()"
   ]
  },
  {
   "cell_type": "code",
   "execution_count": 36,
   "metadata": {},
   "outputs": [
    {
     "data": {
      "text/plain": [
       "['A', 'dil : Na', '', 'm  ']"
      ]
     },
     "execution_count": 36,
     "metadata": {},
     "output_type": "execute_result"
    }
   ],
   "source": [
    "# split (This method splits a string into a list based on a specified delimiter)\n",
    "\n",
    "str = \"Aedil : Naeem  \"\n",
    "str.split(\"e\")"
   ]
  },
  {
   "cell_type": "code",
   "execution_count": 37,
   "metadata": {},
   "outputs": [
    {
     "name": "stdout",
     "output_type": "stream",
     "text": [
      "Aedil : Naeem  \n"
     ]
    }
   ],
   "source": [
    "# join (This method joins elements of an iterable with a specified separator)\n",
    "\n",
    "str =['A', 'dil : Na', '', 'm  ']\n",
    "\n",
    "print(\"e\".join(str))"
   ]
  },
  {
   "cell_type": "markdown",
   "metadata": {},
   "source": [
    "#### **String Searching**"
   ]
  },
  {
   "cell_type": "code",
   "execution_count": 46,
   "metadata": {},
   "outputs": [
    {
     "data": {
      "text/plain": [
       "0"
      ]
     },
     "execution_count": 46,
     "metadata": {},
     "output_type": "execute_result"
    }
   ],
   "source": [
    "# find (This method returns the index of the first occurrence of a substring in a string)\n",
    "\n",
    "str = \"Adil Naeem\"\n",
    "str.find(\"Adil\")"
   ]
  },
  {
   "cell_type": "code",
   "execution_count": 47,
   "metadata": {},
   "outputs": [
    {
     "data": {
      "text/plain": [
       "5"
      ]
     },
     "execution_count": 47,
     "metadata": {},
     "output_type": "execute_result"
    }
   ],
   "source": [
    "# rfind  (This method returns the index of the last occurrence of a substring in a string)\n",
    "\n",
    "str = \"Adil Naeem\"  \n",
    "str.rfind(\"Naeem\")"
   ]
  },
  {
   "cell_type": "code",
   "execution_count": 51,
   "metadata": {},
   "outputs": [
    {
     "data": {
      "text/plain": [
       "-1"
      ]
     },
     "execution_count": 51,
     "metadata": {},
     "output_type": "execute_result"
    }
   ],
   "source": [
    "str = \"Adil Naeem\"\n",
    "str.find(\"M\")\n",
    "\n",
    "# -1 mean that M is not in the string"
   ]
  },
  {
   "cell_type": "code",
   "execution_count": 49,
   "metadata": {},
   "outputs": [
    {
     "data": {
      "text/plain": [
       "10"
      ]
     },
     "execution_count": 49,
     "metadata": {},
     "output_type": "execute_result"
    }
   ],
   "source": [
    "# index (This method returns the index of the first occurrence of a substring in a string)\n",
    "\n",
    "str = \"Adil Naeem Butt\"\n",
    "\n",
    "str.index(\"Butt\")"
   ]
  },
  {
   "cell_type": "markdown",
   "metadata": {},
   "source": [
    "#### **String Formatting**"
   ]
  },
  {
   "cell_type": "code",
   "execution_count": 58,
   "metadata": {},
   "outputs": [
    {
     "data": {
      "text/plain": [
       "'My name is Adil Naeem and my age is 21'"
      ]
     },
     "execution_count": 58,
     "metadata": {},
     "output_type": "execute_result"
    }
   ],
   "source": [
    "name = \"Adil Naeem\"\n",
    "age = \"21\"\n",
    "\n",
    "str = \"My name is {} and my age is {}\"\n",
    "str.format(name,age)"
   ]
  },
  {
   "cell_type": "code",
   "execution_count": 59,
   "metadata": {},
   "outputs": [
    {
     "name": "stdout",
     "output_type": "stream",
     "text": [
      "My name is Adil Naeem and my age is 21\n"
     ]
    }
   ],
   "source": [
    "name = \"Adil Naeem\"\n",
    "age = \"21\"\n",
    "\n",
    "str = f\"My name is {name} and my age is {age}\"\n",
    "print(str)"
   ]
  },
  {
   "cell_type": "code",
   "execution_count": 44,
   "metadata": {},
   "outputs": [
    {
     "data": {
      "text/plain": [
       "'*****Adil Naeem*****'"
      ]
     },
     "execution_count": 44,
     "metadata": {},
     "output_type": "execute_result"
    }
   ],
   "source": [
    "str = \"Adil Naeem\"\n",
    "\n",
    "str.center(20,\"*\")"
   ]
  },
  {
   "cell_type": "markdown",
   "metadata": {},
   "source": [
    "-----"
   ]
  }
 ],
 "metadata": {
  "kernelspec": {
   "display_name": "Python 3",
   "language": "python",
   "name": "python3"
  },
  "language_info": {
   "codemirror_mode": {
    "name": "ipython",
    "version": 3
   },
   "file_extension": ".py",
   "mimetype": "text/x-python",
   "name": "python",
   "nbconvert_exporter": "python",
   "pygments_lexer": "ipython3",
   "version": "3.10.15"
  }
 },
 "nbformat": 4,
 "nbformat_minor": 2
}
