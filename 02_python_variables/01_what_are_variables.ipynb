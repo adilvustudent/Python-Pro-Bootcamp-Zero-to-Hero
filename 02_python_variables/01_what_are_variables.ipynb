{
 "cells": [
  {
   "cell_type": "markdown",
   "metadata": {},
   "source": [
    "\n",
    "-----\n",
    "\n",
    "# **`What Are Variables in Python?`**\n",
    "\n",
    "## **Author** : **Muhammad Adil Naeem**\n",
    "\n",
    "## **Contact** : **madilnaeem0@gmail.com**\n",
    "\n",
    "------\n",
    "\n",
    "### **Variables**\n",
    "\n",
    "In Python, a variable is a symbolic name that is used to reference data stored in memory. When you create a variable, you reserve a space in memory to store a value, which can be of various types, such as integers, floats, strings, lists, dictionaries, and more.\n",
    "\n",
    "**Example:**\n",
    "```python\n",
    "age = 25  # Here, 'age' is a variable storing the integer value 25.\n",
    "name = \"Alice\"  # 'name' is a variable storing the string \"Alice\".\n",
    "```\n",
    "\n",
    "### Significance of Variables\n",
    "\n",
    "1. **Data Storage**: Variables allow you to store data that can be reused throughout your program. This makes it easier to manage and manipulate data.\n",
    "\n",
    "2. **Readability**: Using meaningful variable names makes your code more understandable. For instance, `total_price` is more descriptive than `x`.\n",
    "\n",
    "3. **Dynamic Typing**: Python is dynamically typed, meaning you can change the type of data a variable holds without declaring it. This flexibility simplifies coding.\n",
    "\n",
    "4. **Scope and Lifetime**: Variables have a scope (where they can be accessed) and a lifetime (how long they exist in memory). Understanding this helps in managing memory efficiently.\n",
    "\n",
    "5. **Mathematical Operations**: Variables can store numbers that can be used in calculations, which is essential for tasks such as data analysis or game development.\n",
    "\n",
    "### Importance of Variables in Python\n",
    "\n",
    "- **Ease of Use**: Variables make it easier to write and maintain code. You can change the value of a variable in one place, and it will be reflected wherever that variable is used.\n",
    "\n",
    "- **Abstraction**: They help abstract complex data manipulations by allowing you to refer to data using simple names instead of raw values.\n",
    "\n",
    "- **Control Structures**: Variables are essential in control structures (like loops and conditionals) to store and evaluate conditions or to iterate over data.\n",
    "\n",
    "- **Modularity**: By using variables, you can create more modular code, where functions and methods can take parameters (variables) and return values.\n",
    "\n",
    "### Conclusion\n",
    "\n",
    "Variables are fundamental to programming in Python. They enhance the flexibility, readability, and maintainability of code, making it easier for developers to create complex applications efficiently. Understanding how to use variables effectively is crucial for anyone learning Python."
   ]
  },
  {
   "cell_type": "markdown",
   "metadata": {},
   "source": [
    "-------"
   ]
  },
  {
   "cell_type": "markdown",
   "metadata": {},
   "source": [
    "#### **Variable can start with letter or under score**"
   ]
  },
  {
   "cell_type": "code",
   "execution_count": null,
   "metadata": {},
   "outputs": [],
   "source": [
    "a = 10  #(letter)\n",
    "\n",
    "_ = \"45\" #(underscore)\n",
    "\n",
    "var0 = 5  # (numbers cab be used in vraiable with mix of letters)"
   ]
  },
  {
   "cell_type": "markdown",
   "metadata": {},
   "source": [
    "#### **Variable Naming is Case Sensitive**"
   ]
  },
  {
   "cell_type": "code",
   "execution_count": null,
   "metadata": {},
   "outputs": [],
   "source": [
    "FIFTY_FIVE = 55    # (Capital Letters)\n",
    "\n",
    "fourty_nine = 49   # (Small Letters)\n",
    "\n",
    "Say_Hello = \"Hello\""
   ]
  },
  {
   "cell_type": "markdown",
   "metadata": {},
   "source": [
    "#### **Variable names can not start with keywords,special characters or spacing**"
   ]
  },
  {
   "cell_type": "code",
   "execution_count": null,
   "metadata": {},
   "outputs": [],
   "source": [
    "# 47kilo = 4700 (variable name can not start with a number)\n",
    "\n",
    "# $9 = 47  (@, #, $, %)\n",
    "\n",
    "# for = 45   (if, else, while, for, class)\n",
    "    \n",
    "# dot product = 90 (no spacing)"
   ]
  },
  {
   "cell_type": "code",
   "execution_count": 1,
   "metadata": {},
   "outputs": [
    {
     "name": "stdout",
     "output_type": "stream",
     "text": [
      "['False', 'None', 'True', 'and', 'as', 'assert', 'async', 'await', 'break', 'class', 'continue', 'def', 'del', 'elif', 'else', 'except', 'finally', 'for', 'from', 'global', 'if', 'import', 'in', 'is', 'lambda', 'nonlocal', 'not', 'or', 'pass', 'raise', 'return', 'try', 'while', 'with', 'yield']\n"
     ]
    }
   ],
   "source": [
    "# if you want to check keywords list\n",
    "import keyword\n",
    "print(keyword.kwlist)"
   ]
  },
  {
   "cell_type": "markdown",
   "metadata": {},
   "source": [
    "------"
   ]
  }
 ],
 "metadata": {
  "kernelspec": {
   "display_name": "Python 3",
   "language": "python",
   "name": "python3"
  },
  "language_info": {
   "codemirror_mode": {
    "name": "ipython",
    "version": 3
   },
   "file_extension": ".py",
   "mimetype": "text/x-python",
   "name": "python",
   "nbconvert_exporter": "python",
   "pygments_lexer": "ipython3",
   "version": "3.10.15"
  }
 },
 "nbformat": 4,
 "nbformat_minor": 2
}
