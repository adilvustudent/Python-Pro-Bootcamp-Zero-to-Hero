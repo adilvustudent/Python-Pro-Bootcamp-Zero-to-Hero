{
 "cells": [
  {
   "cell_type": "markdown",
   "metadata": {},
   "source": [
    "\n",
    "-----\n",
    "\n",
    "# **`del and None Type in Python`**\n",
    "\n",
    "----\n",
    "\n",
    "### **1. The `del` Statement**\n",
    "\n",
    "#### **Definition**\n",
    "The `del` statement in Python is used to delete objects. It can be used to remove variables, list elements, dictionary entries, or entire data structures.\n",
    "\n",
    "#### **Syntax**\n",
    "```python\n",
    "del variable_name\n",
    "del collection[index]\n",
    "del collection[start:end]\n",
    "del dictionary[key]\n",
    "```\n",
    "\n",
    "#### **Usage and Examples**\n",
    "\n",
    "1. **Deleting a Variable**:\n",
    "   When you delete a variable, it is removed from the local or global namespace.\n",
    "   ```python\n",
    "   x = 10\n",
    "   print(x)  # Output: 10\n",
    "   del x\n",
    "   # print(x)  # This would raise a NameError because x is deleted.\n",
    "   ```\n",
    "\n",
    "2. **Deleting List Elements**:\n",
    "   You can use `del` to remove an item at a specific index from a list.\n",
    "   ```python\n",
    "   fruits = ['apple', 'banana', 'cherry']\n",
    "   del fruits[1]  # Removes 'banana'\n",
    "   print(fruits)  # Output: ['apple', 'cherry']\n",
    "   ```\n",
    "\n",
    "3. **Deleting a Slice from a List**:\n",
    "   You can delete a range of items using slicing.\n",
    "   ```python\n",
    "   fruits = ['apple', 'banana', 'cherry', 'date']\n",
    "   del fruits[1:3]  # Removes 'banana' and 'cherry'\n",
    "   print(fruits)  # Output: ['apple', 'date']\n",
    "   ```\n",
    "\n",
    "4. **Deleting Dictionary Entries**:\n",
    "   You can remove a key-value pair from a dictionary.\n",
    "   ```python\n",
    "   my_dict = {'a': 1, 'b': 2, 'c': 3}\n",
    "   del my_dict['b']\n",
    "   print(my_dict)  # Output: {'a': 1, 'c': 3}\n",
    "   ```\n",
    "\n",
    "5. **Deleting Entire Objects**:\n",
    "   You can delete entire lists, dictionaries, or other objects.\n",
    "   ```python\n",
    "   my_list = [1, 2, 3]\n",
    "   del my_list\n",
    "   # print(my_list)  # This would raise a NameError because my_list is deleted.\n",
    "   ```\n",
    "\n",
    "### **2. The `None` Type**\n",
    "\n",
    "#### **Definition**\n",
    "`None` is a special constant in Python that represents the absence of a value or a null value. It is the only value of the `NoneType`.\n",
    "\n",
    "#### **Characteristics**\n",
    "- `None` is often used to signify \"nothing\" or \"no value here.\"\n",
    "- It is a singleton, meaning there is only one instance of `None` in a Python program.\n",
    "\n",
    "#### **Usage and Examples**\n",
    "\n",
    "1. **Default Return Value**:\n",
    "   Functions that do not explicitly return a value will return `None` by default.\n",
    "   ```python\n",
    "   def my_function():\n",
    "       pass\n",
    "\n",
    "   result = my_function()\n",
    "   print(result)  # Output: None\n",
    "   ```\n",
    "\n",
    "2. **Using `None` as a Placeholder**:\n",
    "   `None` can be used as a default value for function parameters, indicating that no value has been provided.\n",
    "   ```python\n",
    "   def greet(name=None):\n",
    "       if name is None:\n",
    "           print(\"Hello, Guest!\")\n",
    "       else:\n",
    "           print(f\"Hello, {name}!\")\n",
    "\n",
    "   greet()          # Output: Hello, Guest!\n",
    "   greet(\"Alice\")  # Output: Hello, Alice!\n",
    "   ```\n",
    "\n",
    "3. **Checking for `None`**:\n",
    "   You can check if a variable is `None` using the equality operator (`==`) or, more idiomatically, using the `is` operator.\n",
    "   ```python\n",
    "   x = None\n",
    "   if x is None:\n",
    "       print(\"x is None\")  # Output: x is None\n",
    "   ```\n",
    "\n",
    "4. **Using `None` in Data Structures**:\n",
    "   `None` can be used in lists or dictionaries to indicate missing values.\n",
    "   ```python\n",
    "   data = {'a': 1, 'b': None, 'c': 3}\n",
    "   print(data['b'])  # Output: None\n",
    "   ```\n",
    "\n",
    "5. **Returning `None` from Functions**:\n",
    "   You can explicitly return `None` from a function.\n",
    "   ```python\n",
    "   def no_return():\n",
    "       return None\n",
    "\n",
    "   print(no_return())  # Output: None\n",
    "   ```\n",
    "\n",
    "### **Summary**\n",
    "\n",
    "| Concept     | Description                                                                               |\n",
    "|-------------|-------------------------------------------------------------------------------------------|\n",
    "| `del`       | A statement used to delete variables, list elements, dictionary entries, and objects.   |\n",
    "| `None`      | A special constant representing the absence of a value, with a type of `NoneType`.       |\n",
    "\n",
    "### **Conclusion**\n",
    "\n",
    "The `del` statement is a powerful tool for managing memory and data structures in Python, allowing for the removal of variables and elements. The `None` type serves as a useful placeholder for indicating the absence of a value. Understanding these concepts enhances your ability to write clear and effective Python code.\n",
    "\n",
    "-----"
   ]
  },
  {
   "cell_type": "markdown",
   "metadata": {},
   "source": [
    "### **Let's Practice**"
   ]
  },
  {
   "cell_type": "code",
   "execution_count": 15,
   "metadata": {},
   "outputs": [],
   "source": [
    "# # del is a keyword\n",
    "# x= 5\n",
    "# del x\n",
    "# print(x) # throws an error name 'x' is not defined"
   ]
  },
  {
   "cell_type": "code",
   "execution_count": 16,
   "metadata": {},
   "outputs": [
    {
     "name": "stdout",
     "output_type": "stream",
     "text": [
      "[1, 3]\n"
     ]
    }
   ],
   "source": [
    "l = [1,2,3]\n",
    "\n",
    "del l[1]\n",
    "\n",
    "print(l)"
   ]
  },
  {
   "cell_type": "code",
   "execution_count": 17,
   "metadata": {},
   "outputs": [
    {
     "name": "stdout",
     "output_type": "stream",
     "text": [
      "{'b': 2, 'c': 3}\n"
     ]
    }
   ],
   "source": [
    "l1 = {'a':1,'b':2,'c':3}\n",
    "\n",
    "del l1[\"a\"] # this will remove the key \"a\"\n",
    "\n",
    "print(l1)"
   ]
  },
  {
   "cell_type": "code",
   "execution_count": 18,
   "metadata": {},
   "outputs": [
    {
     "name": "stdout",
     "output_type": "stream",
     "text": [
      "None\n",
      "<class 'NoneType'>\n"
     ]
    }
   ],
   "source": [
    "x = None\n",
    "print(x)\n",
    "print(type(x))\n"
   ]
  },
  {
   "cell_type": "code",
   "execution_count": 19,
   "metadata": {},
   "outputs": [
    {
     "name": "stdout",
     "output_type": "stream",
     "text": [
      "5\n",
      "<class 'int'>\n"
     ]
    }
   ],
   "source": [
    "x = 5\n",
    "print(x)\n",
    "print(type(x))"
   ]
  },
  {
   "cell_type": "code",
   "execution_count": 20,
   "metadata": {},
   "outputs": [
    {
     "name": "stdout",
     "output_type": "stream",
     "text": [
      "x is None\n"
     ]
    }
   ],
   "source": [
    "x = None\n",
    "if x is None:\n",
    "    print(\"x is None\")\n",
    "else:\n",
    "    print(\"x is not None\")"
   ]
  },
  {
   "cell_type": "markdown",
   "metadata": {},
   "source": [
    "------"
   ]
  }
 ],
 "metadata": {
  "kernelspec": {
   "display_name": "Python 3",
   "language": "python",
   "name": "python3"
  },
  "language_info": {
   "codemirror_mode": {
    "name": "ipython",
    "version": 3
   },
   "file_extension": ".py",
   "mimetype": "text/x-python",
   "name": "python",
   "nbconvert_exporter": "python",
   "pygments_lexer": "ipython3",
   "version": "3.10.15"
  }
 },
 "nbformat": 4,
 "nbformat_minor": 2
}
