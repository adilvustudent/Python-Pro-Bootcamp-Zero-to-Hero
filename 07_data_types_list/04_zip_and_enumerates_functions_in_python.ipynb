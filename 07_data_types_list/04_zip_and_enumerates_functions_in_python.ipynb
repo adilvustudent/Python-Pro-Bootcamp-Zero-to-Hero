{
 "cells": [
  {
   "cell_type": "markdown",
   "metadata": {},
   "source": [
    "\n",
    "\n",
    "----\n",
    "\n",
    "# **`Zip and Enumerate Function in Python`**\n",
    "\n",
    "-----\n",
    "\n"
   ]
  },
  {
   "cell_type": "markdown",
   "metadata": {},
   "source": [
    "\n",
    "### **1. `zip` Function**\n",
    "\n",
    "#### **Definition**\n",
    "The `zip` function is used to combine multiple iterables (like lists or tuples) into a single iterable of tuples. Each tuple contains elements from the input iterables that are at the same index.\n",
    "\n",
    "#### **Syntax**\n",
    "```python\n",
    "zip(*iterables)\n",
    "```\n",
    "\n",
    "- **Parameters**: \n",
    "  - `*iterables`: One or more iterables (e.g., lists, tuples).\n",
    "  \n",
    "- **Returns**: An iterator of tuples.\n",
    "\n",
    "#### **Usage and Examples**\n",
    "\n",
    "1. **Basic Example**:\n",
    "   ```python\n",
    "   names = ['Alice', 'Bob', 'Charlie']\n",
    "   ages = [25, 30, 35]\n",
    "   \n",
    "   combined = zip(names, ages)\n",
    "   print(list(combined))  # Output: [('Alice', 25), ('Bob', 30), ('Charlie', 35)]\n",
    "   ```\n",
    "\n",
    "2. **Zipping Multiple Iterables**:\n",
    "   ```python\n",
    "   colors = ['red', 'green', 'blue']\n",
    "   shapes = ['circle', 'square', 'triangle']\n",
    "   \n",
    "   combined = zip(colors, shapes)\n",
    "   print(list(combined))  # Output: [('red', 'circle'), ('green', 'square'), ('blue', 'triangle')]\n",
    "   ```\n",
    "\n",
    "3. **Handling Different Lengths**:\n",
    "   If the input iterables are of different lengths, `zip` stops creating tuples when the shortest iterable is exhausted.\n",
    "   ```python\n",
    "   names = ['Alice', 'Bob']\n",
    "   ages = [25, 30, 35]\n",
    "   \n",
    "   combined = zip(names, ages)\n",
    "   print(list(combined))  # Output: [('Alice', 25), ('Bob', 30)]\n",
    "   ```\n",
    "\n",
    "4. **Unzipping**:\n",
    "   You can also unzip a zipped list of tuples back into separate lists.\n",
    "   ```python\n",
    "   zipped_list = [('Alice', 25), ('Bob', 30), ('Charlie', 35)]\n",
    "   names, ages = zip(*zipped_list)\n",
    "   print(names)  # Output: ('Alice', 'Bob', 'Charlie')\n",
    "   print(ages)   # Output: (25, 30, 35)\n",
    "   ```\n",
    "\n",
    "### **2. `enumerate` Function**\n",
    "\n",
    "#### **Definition**\n",
    "The `enumerate` function adds a counter to an iterable and returns it in the form of an `enumerate` object. This is useful for obtaining both the index and the value of items in an iterable.\n",
    "\n",
    "#### **Syntax**\n",
    "```python\n",
    "enumerate(iterable, start=0)\n",
    "```\n",
    "\n",
    "- **Parameters**:\n",
    "  - `iterable`: The iterable to enumerate (e.g., list, tuple).\n",
    "  - `start`: The starting index (default is `0`).\n",
    "\n",
    "- **Returns**: An enumerate object, which is an iterator of tuples containing index and value pairs.\n",
    "\n",
    "#### **Usage and Examples**\n",
    "\n",
    "1. **Basic Example**:\n",
    "   ```python\n",
    "   fruits = ['apple', 'banana', 'cherry']\n",
    "   for index, fruit in enumerate(fruits):\n",
    "       print(index, fruit)\n",
    "   ```\n",
    "   **Output**:\n",
    "   ```\n",
    "   0 apple\n",
    "   1 banana\n",
    "   2 cherry\n",
    "   ```\n",
    "\n",
    "2. **Specifying a Start Index**:\n",
    "   You can change the starting index by providing a second argument.\n",
    "   ```python\n",
    "   fruits = ['apple', 'banana', 'cherry']\n",
    "   for index, fruit in enumerate(fruits, start=1):\n",
    "       print(index, fruit)\n",
    "   ```\n",
    "   **Output**:\n",
    "   ```\n",
    "   1 apple\n",
    "   2 banana\n",
    "   3 cherry\n",
    "   ```\n",
    "\n",
    "3. **Using `enumerate` with List Comprehensions**:\n",
    "   ```python\n",
    "   fruits = ['apple', 'banana', 'cherry']\n",
    "   indexed_fruits = [(index, fruit) for index, fruit in enumerate(fruits)]\n",
    "   print(indexed_fruits)  # Output: [(0, 'apple'), (1, 'banana'), (2, 'cherry')]\n",
    "   ```\n",
    "\n",
    "### **Summary of `zip` and `enumerate`**\n",
    "\n",
    "| Function   | Purpose                                                         | Returns                      |\n",
    "|------------|-----------------------------------------------------------------|------------------------------|\n",
    "| `zip`      | Combines multiple iterables into tuples based on index.        | An iterator of tuples.       |\n",
    "| `enumerate`| Adds a counter to an iterable and returns the index-value pairs.| An enumerate object (iterator).|\n",
    "\n",
    "### **Conclusion**\n",
    "\n",
    "Both `zip` and `enumerate` are powerful built-in functions in Python that enhance the ability to manipulate and iterate over collections. `zip` is excellent for combining data, while `enumerate` is useful for keeping track of indices alongside values.\n",
    "\n",
    "------"
   ]
  },
  {
   "cell_type": "markdown",
   "metadata": {},
   "source": [
    "### **Let's Practice**"
   ]
  },
  {
   "cell_type": "code",
   "execution_count": 1,
   "metadata": {},
   "outputs": [],
   "source": [
    "l1 = [1,2,3]\n",
    "l2 = [4,5,6]"
   ]
  },
  {
   "cell_type": "code",
   "execution_count": 3,
   "metadata": {},
   "outputs": [
    {
     "name": "stdout",
     "output_type": "stream",
     "text": [
      "[(1, 4), (2, 5), (3, 6)]\n"
     ]
    }
   ],
   "source": [
    "\n",
    "# zip function - returns a list of tuples\n",
    "\n",
    "l3 = zip(l1,l2)\n",
    "print(list(l3))"
   ]
  },
  {
   "cell_type": "code",
   "execution_count": 4,
   "metadata": {},
   "outputs": [
    {
     "name": "stdout",
     "output_type": "stream",
     "text": [
      "((1, 4), (2, 5), (3, 6))\n"
     ]
    }
   ],
   "source": [
    "l3 = zip(l1,l2)\n",
    "print(tuple(l3)) # tuple function - returns a list of tuples"
   ]
  },
  {
   "cell_type": "code",
   "execution_count": 5,
   "metadata": {},
   "outputs": [
    {
     "name": "stdout",
     "output_type": "stream",
     "text": [
      "{(2, 5), (1, 4), (3, 6)}\n"
     ]
    }
   ],
   "source": [
    "l3 = zip(l1,l2)\n",
    "print(set(l3)) # set function - returns a list of tuples"
   ]
  },
  {
   "cell_type": "code",
   "execution_count": 6,
   "metadata": {},
   "outputs": [
    {
     "name": "stdout",
     "output_type": "stream",
     "text": [
      "{1: 4, 2: 5, 3: 6}\n"
     ]
    }
   ],
   "source": [
    "l3 = zip(l1,l2)\n",
    "print(dict(l3))  # dict function - returns a list of tuples"
   ]
  },
  {
   "cell_type": "code",
   "execution_count": 7,
   "metadata": {},
   "outputs": [
    {
     "name": "stdout",
     "output_type": "stream",
     "text": [
      "[(1, 9), (2, 10), (3, 11), (4, 12), (5, 13), (6, 14), (7, 15), (8, 16)]\n"
     ]
    }
   ],
   "source": [
    "r1 = range(1,9)\n",
    "r2 = range(9,17)\n",
    "\n",
    "r3 = zip(r1,r2) # zip function - returns a list of tuples\n",
    "print(list(r3))"
   ]
  },
  {
   "cell_type": "code",
   "execution_count": 9,
   "metadata": {},
   "outputs": [
    {
     "name": "stdout",
     "output_type": "stream",
     "text": [
      "[('Adil', 21, 'Karachi'), ('Raheel', 22, 'Lahore'), ('Zzulqarnain', 23, 'Islamabad')]\n"
     ]
    }
   ],
   "source": [
    "names = ['Adil','Raheel','Zzulqarnain']\n",
    "age = [21,22,23]\n",
    "cities = ['Karachi','Lahore','Islamabad']\n",
    "\n",
    "l = list(zip(names,age,cities))\n",
    "print(l)"
   ]
  },
  {
   "cell_type": "markdown",
   "metadata": {},
   "source": [
    "#### **enumerate**"
   ]
  },
  {
   "cell_type": "code",
   "execution_count": 10,
   "metadata": {},
   "outputs": [
    {
     "name": "stdout",
     "output_type": "stream",
     "text": [
      "0 Adil\n",
      "1 Raheel\n",
      "2 Zulqarnain\n"
     ]
    }
   ],
   "source": [
    "names = ['Adil','Raheel','Zulqarnain']\n",
    "\n",
    "for i,j in enumerate(names): # enumerate function - returns a list of tuples\n",
    "    print(i,j)"
   ]
  },
  {
   "cell_type": "code",
   "execution_count": 11,
   "metadata": {},
   "outputs": [
    {
     "name": "stdout",
     "output_type": "stream",
     "text": [
      "1 Adil\n",
      "2 Raheel\n",
      "3 Zulqarnain\n"
     ]
    }
   ],
   "source": [
    "names = ['Adil','Raheel','Zulqarnain']\n",
    "\n",
    "for i,j in enumerate(names, start=1): # enumerate function - returns a list of tuples\n",
    "    print(i,j)"
   ]
  },
  {
   "cell_type": "code",
   "execution_count": 17,
   "metadata": {},
   "outputs": [
    {
     "name": "stdout",
     "output_type": "stream",
     "text": [
      "0 21 Adil\n",
      "1 22 Raheel\n",
      "2 23 Zulqarnain\n"
     ]
    }
   ],
   "source": [
    "names = {'Adil' : 21,'Raheel':22,'Zulqarnain': 23}\n",
    "\n",
    "for index,(i,j) in enumerate(names.items()):\n",
    "    print(index,j,i)"
   ]
  },
  {
   "cell_type": "markdown",
   "metadata": {},
   "source": [
    "-----"
   ]
  }
 ],
 "metadata": {
  "kernelspec": {
   "display_name": "Python 3",
   "language": "python",
   "name": "python3"
  },
  "language_info": {
   "codemirror_mode": {
    "name": "ipython",
    "version": 3
   },
   "file_extension": ".py",
   "mimetype": "text/x-python",
   "name": "python",
   "nbconvert_exporter": "python",
   "pygments_lexer": "ipython3",
   "version": "3.10.15"
  }
 },
 "nbformat": 4,
 "nbformat_minor": 2
}
