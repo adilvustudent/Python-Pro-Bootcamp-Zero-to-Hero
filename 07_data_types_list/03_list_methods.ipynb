{
 "cells": [
  {
   "cell_type": "markdown",
   "metadata": {},
   "source": [
    "\n",
    "------\n",
    "\n",
    "# **`List Methods In Python`**\n",
    "\n",
    "----"
   ]
  },
  {
   "cell_type": "markdown",
   "metadata": {},
   "source": [
    "Python lists come with a variety of built-in methods that facilitate manipulation and management of list data. Below is a comprehensive list of these methods, along with their descriptions and usage.\n",
    "\n",
    "#### 1. **`append(item)`**\n",
    "- **Description**: Adds an item to the end of the list.\n",
    "- **Usage**:\n",
    "  ```python\n",
    "  fruits = ['apple', 'banana']\n",
    "  fruits.append('cherry')\n",
    "  print(fruits)  # Output: ['apple', 'banana', 'cherry']\n",
    "  ```\n",
    "\n",
    "#### 2. **`extend(iterable)`**\n",
    "- **Description**: Extends the list by appending elements from an iterable (like another list).\n",
    "- **Usage**:\n",
    "  ```python\n",
    "  fruits = ['apple', 'banana']\n",
    "  fruits.extend(['cherry', 'date'])\n",
    "  print(fruits)  # Output: ['apple', 'banana', 'cherry', 'date']\n",
    "  ```\n",
    "\n",
    "#### 3. **`insert(index, item)`**\n",
    "- **Description**: Inserts an item at a specified index. The item is added before the current item at that position.\n",
    "- **Usage**:\n",
    "  ```python\n",
    "  fruits = ['apple', 'banana']\n",
    "  fruits.insert(1, 'kiwi')\n",
    "  print(fruits)  # Output: ['apple', 'kiwi', 'banana']\n",
    "  ```\n",
    "\n",
    "#### 4. **`remove(item)`**\n",
    "- **Description**: Removes the first occurrence of an item from the list. Raises a `ValueError` if the item is not found.\n",
    "- **Usage**:\n",
    "  ```python\n",
    "  fruits = ['apple', 'banana', 'cherry']\n",
    "  fruits.remove('banana')\n",
    "  print(fruits)  # Output: ['apple', 'cherry']\n",
    "  ```\n",
    "\n",
    "#### 5. **`pop(index=-1)`**\n",
    "- **Description**: Removes and returns the item at the specified index (default is the last item). Raises an `IndexError` if the list is empty.\n",
    "- **Usage**:\n",
    "  ```python\n",
    "  fruits = ['apple', 'banana', 'cherry']\n",
    "  last_fruit = fruits.pop()\n",
    "  print(last_fruit)  # Output: 'cherry'\n",
    "  print(fruits)      # Output: ['apple', 'banana']\n",
    "  ```\n",
    "\n",
    "#### 6. **`clear()`**\n",
    "- **Description**: Removes all items from the list, making it empty.\n",
    "- **Usage**:\n",
    "  ```python\n",
    "  fruits = ['apple', 'banana']\n",
    "  fruits.clear()\n",
    "  print(fruits)  # Output: []\n",
    "  ```\n",
    "\n",
    "#### 7. **`index(item, start=0, end=len(list))`**\n",
    "- **Description**: Returns the index of the first occurrence of an item. Raises a `ValueError` if the item is not found. You can specify a range in which to search.\n",
    "- **Usage**:\n",
    "  ```python\n",
    "  fruits = ['apple', 'banana', 'cherry']\n",
    "  index_of_banana = fruits.index('banana')\n",
    "  print(index_of_banana)  # Output: 1\n",
    "  ```\n",
    "\n",
    "#### 8. **`count(item)`**\n",
    "- **Description**: Returns the number of occurrences of an item in the list.\n",
    "- **Usage**:\n",
    "  ```python\n",
    "  fruits = ['apple', 'banana', 'banana', 'cherry']\n",
    "  count_of_banana = fruits.count('banana')\n",
    "  print(count_of_banana)  # Output: 2\n",
    "  ```\n",
    "\n",
    "#### 9. **`sort(key=None, reverse=False)`**\n",
    "- **Description**: Sorts the items of the list in place (the list itself is modified). You can specify a `key` function to customize the sort order and `reverse=True` to sort in descending order.\n",
    "- **Usage**:\n",
    "  ```python\n",
    "  numbers = [5, 2, 9, 1]\n",
    "  numbers.sort()\n",
    "  print(numbers)  # Output: [1, 2, 5, 9]\n",
    "\n",
    "  numbers.sort(reverse=True)\n",
    "  print(numbers)  # Output: [9, 5, 2, 1]\n",
    "  ```\n",
    "\n",
    "#### 10. **`reverse()`**\n",
    "- **Description**: Reverses the elements of the list in place.\n",
    "- **Usage**:\n",
    "  ```python\n",
    "  fruits = ['apple', 'banana', 'cherry']\n",
    "  fruits.reverse()\n",
    "  print(fruits)  # Output: ['cherry', 'banana', 'apple']\n",
    "  ```\n",
    "\n",
    "#### 11. **`copy()`**\n",
    "- **Description**: Returns a shallow copy of the list.\n",
    "- **Usage**:\n",
    "  ```python\n",
    "  fruits = ['apple', 'banana']\n",
    "  fruits_copy = fruits.copy()\n",
    "  print(fruits_copy)  # Output: ['apple', 'banana']\n",
    "  ```\n",
    "\n",
    "### **Summary of List Methods**\n",
    "\n",
    "| Method          | Description                                                      |\n",
    "|------------------|------------------------------------------------------------------|\n",
    "| `append(item)`   | Adds an item to the end of the list.                            |\n",
    "| `extend(iterable)` | Extends the list by appending elements from an iterable.      |\n",
    "| `insert(index, item)` | Inserts an item at a specified index.                      |\n",
    "| `remove(item)`   | Removes the first occurrence of an item from the list.          |\n",
    "| `pop(index)`     | Removes and returns the item at the specified index.            |\n",
    "| `clear()`        | Removes all items from the list.                                |\n",
    "| `index(item)`    | Returns the index of the first occurrence of an item.           |\n",
    "| `count(item)`    | Returns the number of occurrences of an item in the list.      |\n",
    "| `sort()`         | Sorts the items of the list in place.                           |\n",
    "| `reverse()`      | Reverses the elements of the list in place.                     |\n",
    "| `copy()`         | Returns a shallow copy of the list.                             |\n",
    "\n",
    "In Python, the concepts of shallow copy and deep copy are important for understanding how objects are duplicated. Here’s a breakdown of the differences:\n",
    "\n",
    "### **Shallow Copy**\n",
    "- **Definition**: A shallow copy creates a new object, but it does not create copies of nested objects within it. Instead, it copies references to those nested objects.\n",
    "- **Usage**: You can create a shallow copy using the `copy` module's `copy()` function or by using slicing for lists.\n",
    "- **Behavior**: Changes made to mutable nested objects in the original will reflect in the shallow copy, and vice versa.\n",
    "\n",
    "**Example**:\n",
    "```python\n",
    "import copy\n",
    "\n",
    "original = [1, 2, [3, 4]]\n",
    "shallow_copied = copy.copy(original)\n",
    "\n",
    "shallow_copied[2][0] = 'changed'\n",
    "print(original)  # Output: [1, 2, ['changed', 4]]\n",
    "```\n",
    "\n",
    "### **Deep Copy**\n",
    "- **Definition**: A deep copy creates a new object and recursively copies all objects found within the original, creating duplicates of all nested objects.\n",
    "- **Usage**: You can create a deep copy using the `copy` module's `deepcopy()` function.\n",
    "- **Behavior**: Changes made to mutable nested objects in the original will not affect the deep copy, and vice versa.\n",
    "\n",
    "**Example**:\n",
    "```python\n",
    "import copy\n",
    "\n",
    "original = [1, 2, [3, 4]]\n",
    "deep_copied = copy.deepcopy(original)\n",
    "\n",
    "deep_copied[2][0] = 'changed'\n",
    "print(original)  # Output: [1, 2, [3, 4]]\n",
    "```\n",
    "\n",
    "-----\n",
    "- **Shallow Copy**: Copies the outer object and references to nested objects.\n",
    "- **Deep Copy**: Copies the outer object and all nested objects, creating completely independent copies.\n",
    "\n",
    "Understanding these differences is crucial when working with data structures in Python to avoid unintended side effects.\n",
    "\n",
    "----\n",
    "\n",
    "### **Conclusion**\n",
    "\n",
    "Python lists provide a rich set of methods that facilitate various operations for managing and manipulating collections of data. Understanding these methods allows for efficient data handling and enhances programming capabilities.\n",
    "\n",
    "------\n"
   ]
  },
  {
   "cell_type": "code",
   "execution_count": 25,
   "metadata": {},
   "outputs": [],
   "source": [
    "l = [1,2,3,4,5,6,7,8,9,10]"
   ]
  },
  {
   "cell_type": "code",
   "execution_count": 26,
   "metadata": {},
   "outputs": [
    {
     "data": {
      "text/plain": [
       "10"
      ]
     },
     "execution_count": 26,
     "metadata": {},
     "output_type": "execute_result"
    }
   ],
   "source": [
    "# indexing\n",
    "\n",
    "#l[10] # throws error as list index out of range?\n",
    "\n",
    "l[9]"
   ]
  },
  {
   "cell_type": "code",
   "execution_count": 27,
   "metadata": {},
   "outputs": [
    {
     "name": "stdout",
     "output_type": "stream",
     "text": [
      "[1, 2, 3, 4, 5, 6, 7, 8, 9, 10, 11]\n"
     ]
    }
   ],
   "source": [
    "# List Modifications\n",
    "\n",
    "# append -  adds an element to the end of the list, one element at a time\n",
    "\n",
    "l.append(11)\n",
    "\n",
    "print(l)"
   ]
  },
  {
   "cell_type": "code",
   "execution_count": 28,
   "metadata": {},
   "outputs": [
    {
     "name": "stdout",
     "output_type": "stream",
     "text": [
      "[1, 2, 3, 4, 5, 6, 7, 8, 9, 10, 11, 12, 13, 14, 15]\n"
     ]
    }
   ],
   "source": [
    "# extend - adds an iterable to the end of the list\n",
    "\n",
    "l.extend([12,13,14,15])\n",
    "\n",
    "print(l)"
   ]
  },
  {
   "cell_type": "code",
   "execution_count": 29,
   "metadata": {},
   "outputs": [
    {
     "name": "stdout",
     "output_type": "stream",
     "text": [
      "[0, 1, 2, 3, 4, 5, 6, 7, 8, 9, 10, 11, 12, 13, 14, 15]\n"
     ]
    }
   ],
   "source": [
    "# inset - inserts an element at a specific index\n",
    "\n",
    "l.insert(0,0)   # inserts 0 at index 0 \n",
    "\n",
    "print(l)"
   ]
  },
  {
   "cell_type": "code",
   "execution_count": 30,
   "metadata": {},
   "outputs": [
    {
     "name": "stdout",
     "output_type": "stream",
     "text": [
      "[1, 2, 3, 4, 5, 6, 7, 8, 9, 10, 11, 12, 13, 14, 15]\n"
     ]
    }
   ],
   "source": [
    "# remove - removes an element from the list\n",
    "\n",
    "l.remove(0)\n",
    "\n",
    "print(l)"
   ]
  },
  {
   "cell_type": "code",
   "execution_count": 31,
   "metadata": {},
   "outputs": [
    {
     "name": "stdout",
     "output_type": "stream",
     "text": [
      "[1, 2, 3, 4, 5, 6, 7, 8, 9, 10, 11, 12, 13, 14]\n"
     ]
    }
   ],
   "source": [
    "# pop - removes and returns the item at the specified index (default is the last item). Raises an `IndexError` if the list is empty.\n",
    "\n",
    "l.pop()\n",
    "\n",
    "print(l)"
   ]
  },
  {
   "cell_type": "code",
   "execution_count": 32,
   "metadata": {},
   "outputs": [],
   "source": [
    "# del - deletes the entire list\n",
    "\n",
    "l1 = ['kutta',\"kamina\"]\n",
    "\n",
    "del l1"
   ]
  },
  {
   "cell_type": "code",
   "execution_count": 33,
   "metadata": {},
   "outputs": [
    {
     "name": "stdout",
     "output_type": "stream",
     "text": [
      "[1, 2, ['changed', 4]]\n"
     ]
    }
   ],
   "source": [
    "# shallow copy - creates a shallow copy of the list\n",
    "\n",
    "import copy\n",
    "\n",
    "original = [1, 2, [3, 4]]\n",
    "shallow_copied = copy.copy(original)\n",
    "\n",
    "shallow_copied[2][0] = 'changed'\n",
    "print(original)"
   ]
  },
  {
   "cell_type": "code",
   "execution_count": 34,
   "metadata": {},
   "outputs": [
    {
     "name": "stdout",
     "output_type": "stream",
     "text": [
      "[1, 2, [3, 4]]\n"
     ]
    }
   ],
   "source": [
    "# deep copy - creates a deep copy of the list\n",
    "\n",
    "import copy\n",
    "\n",
    "original = [1, 2, [3, 4]]\n",
    "deep_copied = copy.deepcopy(original)\n",
    "\n",
    "deep_copied[2][0] = 'changed'\n",
    "print(original)\n"
   ]
  },
  {
   "cell_type": "markdown",
   "metadata": {},
   "source": [
    "------"
   ]
  }
 ],
 "metadata": {
  "kernelspec": {
   "display_name": "Python 3",
   "language": "python",
   "name": "python3"
  },
  "language_info": {
   "codemirror_mode": {
    "name": "ipython",
    "version": 3
   },
   "file_extension": ".py",
   "mimetype": "text/x-python",
   "name": "python",
   "nbconvert_exporter": "python",
   "pygments_lexer": "ipython3",
   "version": "3.10.15"
  }
 },
 "nbformat": 4,
 "nbformat_minor": 2
}
