{
 "cells": [
  {
   "cell_type": "markdown",
   "metadata": {},
   "source": [
    "\n",
    "---\n",
    "\n",
    "# **`Python Lists Operations`**\n",
    "\n",
    "-----\n",
    "\n",
    "\n"
   ]
  },
  {
   "cell_type": "markdown",
   "metadata": {},
   "source": [
    "#### 1. **Creating Lists**\n",
    "Lists can be created using square brackets `[]`, the `list()` constructor, or by directly assigning values.\n",
    "\n",
    "```python\n",
    "# Using square brackets\n",
    "fruits = [\"apple\", \"banana\", \"cherry\"]\n",
    "\n",
    "# Using the list() constructor\n",
    "numbers = list((1, 2, 3, 4, 5))\n",
    "\n",
    "# Creating an empty list\n",
    "empty_list = []\n",
    "```\n",
    "\n",
    "#### 2. **Accessing List Elements**\n",
    "You can access elements in a list using indexing. Python uses zero-based indexing.\n",
    "\n",
    "```python\n",
    "fruits = [\"apple\", \"banana\", \"cherry\"]\n",
    "\n",
    "# Accessing elements\n",
    "first_fruit = fruits[0]        # Output: 'apple'\n",
    "last_fruit = fruits[-1]        # Output: 'cherry'\n",
    "```\n",
    "\n",
    "#### 3. **Slicing Lists**\n",
    "You can slice lists to extract a portion of the list.\n",
    "\n",
    "```python\n",
    "numbers = [1, 2, 3, 4, 5]\n",
    "\n",
    "# Slicing\n",
    "slice1 = numbers[1:4]          # Output: [2, 3, 4]\n",
    "slice2 = numbers[:3]           # Output: [1, 2, 3]\n",
    "slice3 = numbers[::2]          # Output: [1, 3, 5] (every second element)\n",
    "```\n",
    "\n",
    "#### 4. **Modifying Lists**\n",
    "Lists are mutable, so you can change their contents.\n",
    "\n",
    "- **Changing an Element**:\n",
    "```python\n",
    "fruits[1] = \"blueberry\"         # Changes 'banana' to 'blueberry'\n",
    "```\n",
    "\n",
    "- **Adding Elements**:\n",
    "   - **`append(item)`**: Adds an item to the end of the list.\n",
    "   - **`insert(index, item)`**: Inserts an item at a specified index.\n",
    "   - **`extend(iterable)`**: Extends the list by appending elements from an iterable.\n",
    "\n",
    "```python\n",
    "fruits.append(\"date\")           # Output: ['apple', 'blueberry', 'cherry', 'date']\n",
    "fruits.insert(1, \"kiwi\")       # Output: ['apple', 'kiwi', 'blueberry', 'cherry', 'date']\n",
    "fruits.extend([\"fig\", \"grape\"]) # Output: ['apple', 'kiwi', 'blueberry', 'cherry', 'date', 'fig', 'grape']\n",
    "```\n",
    "\n",
    "- **Removing Elements**:\n",
    "   - **`remove(item)`**: Removes the first occurrence of an item.\n",
    "   - **`pop(index)`**: Removes and returns the item at the specified index (or the last item if no index is provided).\n",
    "   - **`clear()`**: Removes all items from the list.\n",
    "\n",
    "```python\n",
    "fruits.remove(\"kiwi\")          # Output: ['apple', 'blueberry', 'cherry', 'date', 'fig', 'grape']\n",
    "popped_fruit = fruits.pop()    # Removes 'grape'; Output: 'grape'\n",
    "fruits.clear()                 # Output: []\n",
    "```\n",
    "\n",
    "#### 5. **List Methods**\n",
    "Python provides several built-in methods for list operations:\n",
    "\n",
    "- **`index(item)`**: Returns the index of the first occurrence of an item.\n",
    "```python\n",
    "fruits = [\"apple\", \"blueberry\", \"cherry\"]\n",
    "index_of_cherry = fruits.index(\"cherry\")  # Output: 2\n",
    "```\n",
    "\n",
    "- **`count(item)`**: Returns the number of occurrences of an item.\n",
    "```python\n",
    "numbers = [1, 2, 2, 3]\n",
    "count_of_twos = numbers.count(2)  # Output: 2\n",
    "```\n",
    "\n",
    "- **`sort()`**: Sorts the list in ascending order.\n",
    "```python\n",
    "numbers.sort()  # Sorts in place\n",
    "```\n",
    "\n",
    "- **`reverse()`**: Reverses the order of the list.\n",
    "```python\n",
    "numbers.reverse()  # Reverses the list in place\n",
    "```\n",
    "\n",
    "- **`copy()`**: Returns a shallow copy of the list.\n",
    "```python\n",
    "new_fruits = fruits.copy()  # Creates a copy of the list\n",
    "```\n",
    "\n",
    "#### 6. **List Iteration**\n",
    "You can iterate over the elements of a list using a `for` loop.\n",
    "\n",
    "```python\n",
    "for fruit in fruits:\n",
    "    print(fruit)  # Prints each fruit in the list\n",
    "```\n",
    "\n",
    "#### 7. **List Comprehensions**\n",
    "List comprehensions provide a concise way to create lists.\n",
    "\n",
    "```python\n",
    "# Create a list of squares\n",
    "squares = [x**2 for x in range(10)]  # Output: [0, 1, 4, 9, 16, 25, 36, 49, 64, 81]\n",
    "\n",
    "# Create a list of even numbers\n",
    "evens = [x for x in range(20) if x % 2 == 0]  # Output: [0, 2, 4, 6, 8, 10, 12, 14, 16, 18]\n",
    "```\n",
    "\n",
    "#### 8. **Nested Lists**\n",
    "Lists can contain other lists, allowing for multi-dimensional data structures.\n",
    "\n",
    "```python\n",
    "matrix = [[1, 2, 3], [4, 5, 6], [7, 8, 9]]\n",
    "print(matrix[1][2])  # Output: 6 (second row, third column)\n",
    "```\n",
    "\n",
    "#### 9. **Common List Operations**\n",
    "- **Concatenation**: Combine two lists using the `+` operator.\n",
    "```python\n",
    "list1 = [1, 2, 3]\n",
    "list2 = [4, 5, 6]\n",
    "combined = list1 + list2  # Output: [1, 2, 3, 4, 5, 6]\n",
    "```\n",
    "\n",
    "- **Repetition**: Repeat a list using the `*` operator.\n",
    "```python\n",
    "repeated = [0] * 5  # Output: [0, 0, 0, 0, 0]\n",
    "```\n",
    "\n",
    "#### 10. **Memory Considerations**\n",
    "- Lists in Python are dynamic arrays. They can grow and shrink automatically as you add or remove items.\n",
    "- Lists store references to objects rather than the objects themselves.\n",
    "\n",
    "### **Conclusion**\n",
    "Lists in Python are versatile and powerful data structures that allow for efficient storage and manipulation of collections of items. Understanding the various operations and methods available for lists is essential for effective Python programming.\n",
    "\n",
    "-----\n"
   ]
  },
  {
   "cell_type": "markdown",
   "metadata": {},
   "source": [
    "### **Let's Practice**"
   ]
  },
  {
   "cell_type": "code",
   "execution_count": 1,
   "metadata": {},
   "outputs": [],
   "source": [
    "l1 = [1,2,3]\n",
    "l2 = [4,5,6]"
   ]
  },
  {
   "cell_type": "code",
   "execution_count": 6,
   "metadata": {},
   "outputs": [
    {
     "data": {
      "text/plain": [
       "[1, 2, 3, 4, 5, 6]"
      ]
     },
     "execution_count": 6,
     "metadata": {},
     "output_type": "execute_result"
    }
   ],
   "source": [
    "# Operations on list\n",
    "\n",
    "# l3 = l1- l2 # not possible\n",
    "# l3 = l1 * l2 # not possible\n",
    "# l3 = l1 / l2 # not possible\n",
    "\n",
    "l3 = l1 + l2 # possible\n",
    "l3\n"
   ]
  },
  {
   "cell_type": "code",
   "execution_count": 9,
   "metadata": {},
   "outputs": [
    {
     "data": {
      "text/plain": [
       "[1, 2, 3, 4, 5, 6, 1, 2, 3, 4, 5, 6, 1, 2, 3, 4, 5, 6]"
      ]
     },
     "execution_count": 9,
     "metadata": {},
     "output_type": "execute_result"
    }
   ],
   "source": [
    "# Repetition Operations\n",
    "\n",
    "l4 = l3 * 3 # (1 string and 1 integer)\n",
    "l4"
   ]
  },
  {
   "cell_type": "code",
   "execution_count": 11,
   "metadata": {},
   "outputs": [
    {
     "name": "stdout",
     "output_type": "stream",
     "text": [
      "yes\n"
     ]
    }
   ],
   "source": [
    "# Membership Operations\n",
    "\n",
    "if 5 in l3:\n",
    "    print(\"yes\")\n",
    "else:\n",
    "    print(\"no\")"
   ]
  },
  {
   "cell_type": "code",
   "execution_count": 12,
   "metadata": {},
   "outputs": [
    {
     "name": "stdout",
     "output_type": "stream",
     "text": [
      "1\n",
      "2\n",
      "3\n",
      "4\n",
      "5\n",
      "6\n"
     ]
    }
   ],
   "source": [
    "# Looping Operations\n",
    "\n",
    "for i in l3:\n",
    "    print(i)"
   ]
  },
  {
   "cell_type": "code",
   "execution_count": 14,
   "metadata": {},
   "outputs": [
    {
     "data": {
      "text/plain": [
       "7"
      ]
     },
     "execution_count": 14,
     "metadata": {},
     "output_type": "execute_result"
    }
   ],
   "source": [
    "# Functions\n",
    "\n",
    "len(l3)"
   ]
  },
  {
   "cell_type": "code",
   "execution_count": 15,
   "metadata": {},
   "outputs": [
    {
     "data": {
      "text/plain": [
       "7"
      ]
     },
     "execution_count": 15,
     "metadata": {},
     "output_type": "execute_result"
    }
   ],
   "source": [
    "max(l3)"
   ]
  },
  {
   "cell_type": "code",
   "execution_count": 16,
   "metadata": {},
   "outputs": [
    {
     "data": {
      "text/plain": [
       "1"
      ]
     },
     "execution_count": 16,
     "metadata": {},
     "output_type": "execute_result"
    }
   ],
   "source": [
    "min(l3)"
   ]
  },
  {
   "cell_type": "code",
   "execution_count": 18,
   "metadata": {},
   "outputs": [
    {
     "data": {
      "text/plain": [
       "[7, 6, 5, 4, 3, 2, 1]"
      ]
     },
     "execution_count": 18,
     "metadata": {},
     "output_type": "execute_result"
    }
   ],
   "source": [
    "list(reversed(l3))"
   ]
  },
  {
   "cell_type": "code",
   "execution_count": null,
   "metadata": {},
   "outputs": [],
   "source": []
  },
  {
   "cell_type": "code",
   "execution_count": null,
   "metadata": {},
   "outputs": [],
   "source": []
  },
  {
   "cell_type": "markdown",
   "metadata": {},
   "source": [
    "------"
   ]
  }
 ],
 "metadata": {
  "kernelspec": {
   "display_name": "Python 3",
   "language": "python",
   "name": "python3"
  },
  "language_info": {
   "codemirror_mode": {
    "name": "ipython",
    "version": 3
   },
   "file_extension": ".py",
   "mimetype": "text/x-python",
   "name": "python",
   "nbconvert_exporter": "python",
   "pygments_lexer": "ipython3",
   "version": "3.10.15"
  }
 },
 "nbformat": 4,
 "nbformat_minor": 2
}
