{
 "cells": [
  {
   "cell_type": "markdown",
   "metadata": {},
   "source": [
    "\n",
    "-----\n",
    "\n",
    "# **`List Comprehension in Python`**\n",
    "\n",
    "\n",
    "#### **Definition**\n",
    "List comprehension is a concise way to create lists in Python. It allows you to generate a new list by applying an expression to each item in an existing iterable (like a list or range) and can include optional filtering conditions.\n",
    "\n",
    "#### **Syntax**\n",
    "```python\n",
    "[expression for item in iterable if condition]\n",
    "```\n",
    "\n",
    "- **`expression`**: The current item in the iteration, which is transformed or manipulated before being added to the new list.\n",
    "- **`item`**: The variable that takes the value of each element in the iterable.\n",
    "- **`iterable`**: Any iterable (e.g., list, tuple, string).\n",
    "- **`condition`** (optional): A filter that tests whether the item should be included in the new list.\n",
    "\n",
    "#### **Basic Examples**\n",
    "\n",
    "1. **Creating a Simple List**:\n",
    "   ```python\n",
    "   squares = [x**2 for x in range(10)]\n",
    "   print(squares)  # Output: [0, 1, 4, 9, 16, 25, 36, 49, 64, 81]\n",
    "   ```\n",
    "\n",
    "2. **Applying a Condition**:\n",
    "   ```python\n",
    "   even_squares = [x**2 for x in range(10) if x % 2 == 0]\n",
    "   print(even_squares)  # Output: [0, 4, 16, 36, 64]\n",
    "   ```\n",
    "\n",
    "3. **Nested List Comprehensions**:\n",
    "   You can use list comprehensions within list comprehensions to create nested lists.\n",
    "   ```python\n",
    "   matrix = [[j for j in range(3)] for i in range(3)]\n",
    "   print(matrix)  # Output: [[0, 1, 2], [0, 1, 2], [0, 1, 2]]\n",
    "   ```\n",
    "\n",
    "4. **Flattening a List of Lists**:\n",
    "   ```python\n",
    "   nested_list = [[1, 2, 3], [4, 5], [6]]\n",
    "   flattened = [num for sublist in nested_list for num in sublist]\n",
    "   print(flattened)  # Output: [1, 2, 3, 4, 5, 6]\n",
    "   ```\n",
    "\n",
    "5. **Using Functions in List Comprehension**:\n",
    "   You can call functions within the expression.\n",
    "   ```python\n",
    "   def square(x):\n",
    "       return x**2\n",
    "\n",
    "   squares = [square(x) for x in range(10)]\n",
    "   print(squares)  # Output: [0, 1, 4, 9, 16, 25, 36, 49, 64, 81]\n",
    "   ```\n",
    "\n",
    "#### **Advantages of List Comprehension**\n",
    "\n",
    "1. **Conciseness**: List comprehensions reduce the amount of code needed to create lists, making your code cleaner and more readable.\n",
    "   \n",
    "2. **Performance**: They are generally faster than using traditional loops for constructing lists, as they are optimized for performance in Python.\n",
    "\n",
    "3. **Readability**: When used appropriately, list comprehensions can make your code easier to understand at a glance.\n",
    "\n",
    "#### **Common Use Cases**\n",
    "\n",
    "1. **Transforming Data**: Modifying or transforming items from an iterable.\n",
    "   ```python\n",
    "   names = ['alice', 'bob', 'charlie']\n",
    "   capitalized_names = [name.capitalize() for name in names]\n",
    "   print(capitalized_names)  # Output: ['Alice', 'Bob', 'Charlie']\n",
    "   ```\n",
    "\n",
    "2. **Filtering Data**: Creating lists based on certain conditions.\n",
    "   ```python\n",
    "   numbers = [1, 2, 3, 4, 5, 6, 7, 8, 9]\n",
    "   odd_numbers = [num for num in numbers if num % 2 != 0]\n",
    "   print(odd_numbers)  # Output: [1, 3, 5, 7, 9]\n",
    "   ```\n",
    "\n",
    "3. **Working with Strings**: Creating lists of characters or substrings.\n",
    "   ```python\n",
    "   sentence = \"Hello World\"\n",
    "   letters = [char for char in sentence]\n",
    "   print(letters)  # Output: ['H', 'e', 'l', 'l', 'o', ' ', 'W', 'o', 'r', 'l', 'd']\n",
    "   ```\n",
    "\n",
    "#### **Considerations**\n",
    "\n",
    "- **Readability**: While list comprehensions can make code more concise, overly complex comprehensions can be difficult to read. It's important to find a balance.\n",
    "  \n",
    "- **Nested Comprehensions**: When using nested list comprehensions, ensure clarity. If the logic becomes complicated, consider using traditional loops for better readability.\n",
    "\n",
    "### **Conclusion**\n",
    "List comprehension is a powerful feature in Python that simplifies the process of creating and manipulating lists. By understanding its syntax and applications, you can write more efficient and cleaner code.\n",
    "\n",
    "\n",
    "----\n"
   ]
  },
  {
   "cell_type": "markdown",
   "metadata": {},
   "source": [
    "### **Let's Practice**"
   ]
  },
  {
   "cell_type": "code",
   "execution_count": 6,
   "metadata": {},
   "outputs": [
    {
     "name": "stdout",
     "output_type": "stream",
     "text": [
      "[1, 2, 3, 4, 5, 6, 7, 8, 9, 10]\n"
     ]
    }
   ],
   "source": [
    "# Without List Comprehension\n",
    "list1 = []\n",
    "for i in range(1,11):\n",
    "    list1.append(i)\n",
    "print(list1)"
   ]
  },
  {
   "cell_type": "code",
   "execution_count": 7,
   "metadata": {},
   "outputs": [
    {
     "name": "stdout",
     "output_type": "stream",
     "text": [
      "[1, 2, 3, 4, 5, 6, 7, 8, 9, 10]\n"
     ]
    }
   ],
   "source": [
    "# with list comprehension\n",
    "list1 = [i for i in range(1,11)]\n",
    "print(list1)"
   ]
  },
  {
   "cell_type": "code",
   "execution_count": 8,
   "metadata": {},
   "outputs": [
    {
     "name": "stdout",
     "output_type": "stream",
     "text": [
      "[0, 4, 16, 36, 64, 100]\n"
     ]
    }
   ],
   "source": [
    "s = [x**2 for x in range(11) if x%2==0] # this is a list comprehension that will create a list of squares of even numbers from 0 to 10\n",
    "print(s)"
   ]
  },
  {
   "cell_type": "code",
   "execution_count": 9,
   "metadata": {},
   "outputs": [
    {
     "name": "stdout",
     "output_type": "stream",
     "text": [
      "[1, 9, 25, 49, 81]\n"
     ]
    }
   ],
   "source": [
    "s = [x**2 for x in range(11) if x%2!=0] # this is a list comprehension that will create a list of squares of odd numbers from 0 to 10\n",
    "print(s)"
   ]
  },
  {
   "cell_type": "markdown",
   "metadata": {},
   "source": [
    "### **sort and sorted function**"
   ]
  },
  {
   "cell_type": "code",
   "execution_count": 11,
   "metadata": {},
   "outputs": [
    {
     "name": "stdout",
     "output_type": "stream",
     "text": [
      "[5, 4, 3, 2, 1]\n"
     ]
    }
   ],
   "source": [
    "l = [1,2,3,4,5]\n",
    "l.sort(reverse=True)\n",
    "print(l)"
   ]
  },
  {
   "cell_type": "code",
   "execution_count": 13,
   "metadata": {},
   "outputs": [
    {
     "name": "stdout",
     "output_type": "stream",
     "text": [
      "[6, 5, 4, 3, 2, 1]\n"
     ]
    }
   ],
   "source": [
    "lt = [1,2,3,4,5,6]\n",
    "ll =sorted(lt,reverse=True)\n",
    "print(ll)"
   ]
  },
  {
   "cell_type": "markdown",
   "metadata": {},
   "source": [
    "-----"
   ]
  }
 ],
 "metadata": {
  "kernelspec": {
   "display_name": "Python 3",
   "language": "python",
   "name": "python3"
  },
  "language_info": {
   "codemirror_mode": {
    "name": "ipython",
    "version": 3
   },
   "file_extension": ".py",
   "mimetype": "text/x-python",
   "name": "python",
   "nbconvert_exporter": "python",
   "pygments_lexer": "ipython3",
   "version": "3.10.15"
  }
 },
 "nbformat": 4,
 "nbformat_minor": 2
}
