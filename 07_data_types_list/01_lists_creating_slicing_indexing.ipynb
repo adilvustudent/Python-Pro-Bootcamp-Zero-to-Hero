{
 "cells": [
  {
   "cell_type": "markdown",
   "metadata": {},
   "source": [
    "\n",
    "-----\n",
    "\n",
    "# **`Lists In Python`**\n",
    "\n",
    "-----\n",
    "\n"
   ]
  },
  {
   "cell_type": "markdown",
   "metadata": {},
   "source": [
    "#### 1. **Definition**\n",
    "A **list** in Python is an ordered collection of items that can be of mixed types. Lists are mutable, meaning you can change their content without changing their identity.\n",
    "\n",
    "#### 2. **Creating Lists**\n",
    "Lists can be created using square brackets `[]` or the `list()` constructor.\n",
    "\n",
    "```python\n",
    "# Empty list\n",
    "empty_list = []\n",
    "\n",
    "# List with mixed data types\n",
    "mixed_list = [1, \"Hello\", 3.14, True]\n",
    "\n",
    "# List of integers\n",
    "numbers = [1, 2, 3, 4, 5]\n",
    "\n",
    "# List using list() constructor\n",
    "list_from_constructor = list((1, 2, 3))\n",
    "```\n",
    "\n",
    "#### 3. **Accessing List Elements**\n",
    "You can access list items using indexing. Python uses zero-based indexing.\n",
    "\n",
    "```python\n",
    "my_list = ['a', 'b', 'c', 'd']\n",
    "\n",
    "# Accessing elements\n",
    "print(my_list[0])  # Output: 'a'\n",
    "print(my_list[-1]) # Output: 'd' (last element)\n",
    "```\n",
    "\n",
    "#### 4. **Slicing Lists**\n",
    "You can slice lists to access a range of elements.\n",
    "\n",
    "```python\n",
    "my_list = [1, 2, 3, 4, 5]\n",
    "\n",
    "# Slicing\n",
    "print(my_list[1:4])  # Output: [2, 3, 4]\n",
    "print(my_list[:3])    # Output: [1, 2, 3]\n",
    "print(my_list[::2])   # Output: [1, 3, 5] (every second element)\n",
    "```\n",
    "\n",
    "#### 5. **Modifying Lists**\n",
    "Lists are mutable, so you can change their contents.\n",
    "\n",
    "```python\n",
    "my_list = [1, 2, 3]\n",
    "my_list[1] = 10      # Change second element\n",
    "print(my_list)       # Output: [1, 10, 3]\n",
    "\n",
    "# Adding elements\n",
    "my_list.append(4)    # Add to the end\n",
    "print(my_list)       # Output: [1, 10, 3, 4]\n",
    "\n",
    "# Inserting elements\n",
    "my_list.insert(1, 5) # Insert at index 1\n",
    "print(my_list)       # Output: [1, 5, 10, 3, 4]\n",
    "\n",
    "# Removing elements\n",
    "my_list.remove(10)   # Remove first occurrence of 10\n",
    "print(my_list)       # Output: [1, 5, 3, 4]\n",
    "\n",
    "# Popping elements\n",
    "popped_element = my_list.pop()  # Remove last element\n",
    "print(popped_element)            # Output: 4\n",
    "print(my_list)                   # Output: [1, 5, 3]\n",
    "```\n",
    "\n",
    "#### 6. **List Methods**\n",
    "Python provides various methods for list manipulation:\n",
    "\n",
    "- **`append(item)`**: Adds an item to the end of the list.\n",
    "- **`extend(iterable)`**: Extends the list by appending elements from an iterable.\n",
    "- **`insert(index, item)`**: Inserts an item at a specified index.\n",
    "- **`remove(item)`**: Removes the first occurrence of an item.\n",
    "- **`pop(index)`**: Removes and returns the item at the specified index (or last if no index).\n",
    "- **`clear()`**: Removes all items from the list.\n",
    "- **`index(item)`**: Returns the index of the first occurrence of an item.\n",
    "- **`count(item)`**: Returns the number of occurrences of an item.\n",
    "- **`sort()`**: Sorts the list in ascending order.\n",
    "- **`reverse()`**: Reverses the order of the list.\n",
    "- **`copy()`**: Returns a shallow copy of the list.\n",
    "\n",
    "**Examples**:\n",
    "```python\n",
    "my_list = [3, 1, 4, 1, 5]\n",
    "\n",
    "# Extending the list\n",
    "my_list.extend([9, 2, 6])\n",
    "print(my_list)  # Output: [3, 1, 4, 1, 5, 9, 2, 6]\n",
    "\n",
    "# Sorting the list\n",
    "my_list.sort()\n",
    "print(my_list)  # Output: [1, 1, 2, 3, 4, 5, 6, 9]\n",
    "\n",
    "# Reversing the list\n",
    "my_list.reverse()\n",
    "print(my_list)  # Output: [9, 6, 5, 4, 3, 2, 1, 1]\n",
    "```\n",
    "\n",
    "#### 7. **List Comprehensions**\n",
    "List comprehensions provide a concise way to create lists. They consist of brackets containing an expression followed by a `for` clause.\n",
    "\n",
    "```python\n",
    "# Create a list of squares\n",
    "squares = [x**2 for x in range(10)]\n",
    "print(squares)  # Output: [0, 1, 4, 9, 16, 25, 36, 49, 64, 81]\n",
    "\n",
    "# Create a list of even numbers\n",
    "evens = [x for x in range(20) if x % 2 == 0]\n",
    "print(evens)    # Output: [0, 2, 4, 6, 8, 10, 12, 14, 16, 18]\n",
    "```\n",
    "\n",
    "#### 8. **Nested Lists**\n",
    "Lists can contain other lists, allowing you to create multi-dimensional arrays.\n",
    "\n",
    "```python\n",
    "matrix = [[1, 2, 3], [4, 5, 6], [7, 8, 9]]\n",
    "print(matrix[1][2])  # Output: 6 (second row, third column)\n",
    "```\n",
    "\n",
    "#### 9. **Common Use Cases**\n",
    "- Storing collections of data where order matters (e.g., a list of students).\n",
    "- Implementing stacks and queues.\n",
    "- Storing multiple items in a single variable for easy iteration and manipulation.\n",
    "\n",
    "### **Conclusion**\n",
    "Lists are a fundamental data structure in Python, providing a flexible way to store and manipulate collections of items. Their mutability, combined with a rich set of built-in methods, makes them highly versatile for various programming tasks.\n",
    "\n",
    "-----\n"
   ]
  },
  {
   "cell_type": "markdown",
   "metadata": {},
   "source": [
    "### **Let's Practice**"
   ]
  },
  {
   "cell_type": "code",
   "execution_count": 38,
   "metadata": {},
   "outputs": [
    {
     "data": {
      "text/plain": [
       "list"
      ]
     },
     "execution_count": 38,
     "metadata": {},
     "output_type": "execute_result"
    }
   ],
   "source": [
    "a = [\"apple\", \"banana\",\"melon\", \"mango\"] # Different ways to create list\n",
    "\n",
    "type(a)"
   ]
  },
  {
   "cell_type": "code",
   "execution_count": 39,
   "metadata": {},
   "outputs": [
    {
     "data": {
      "text/plain": [
       "list"
      ]
     },
     "execution_count": 39,
     "metadata": {},
     "output_type": "execute_result"
    }
   ],
   "source": [
    "b = list([1,2,3,4,5]) # Different ways to create list\n",
    "\n",
    "type(b)"
   ]
  },
  {
   "cell_type": "code",
   "execution_count": 40,
   "metadata": {},
   "outputs": [
    {
     "name": "stdout",
     "output_type": "stream",
     "text": [
      "[1, 2, 3, 4, 5] and <class 'list'>\n",
      "[1, 2, 3.1, 4.2, 'Banana', 'Cherry', True, False] and <class 'list'>\n"
     ]
    }
   ],
   "source": [
    "c = [1,2,3,4,5] # Homogenous Lists\n",
    "\n",
    "d = [1,2,3.1,4.2 ,\"Banana\",\"Cherry\",True,False] # Hetrogenous Lists\n",
    "\n",
    "print(f\"{c} and {type(c)}\")\n",
    "print(f\"{d} and {type(d)}\")"
   ]
  },
  {
   "cell_type": "code",
   "execution_count": 41,
   "metadata": {},
   "outputs": [
    {
     "name": "stdout",
     "output_type": "stream",
     "text": [
      "[1, 2, 'Adil', [1, 2], True]\n"
     ]
    }
   ],
   "source": [
    "e = [1,2,\"Adil\",[1,2],True]  # Nested Lists\n",
    "print(e)"
   ]
  },
  {
   "cell_type": "code",
   "execution_count": 42,
   "metadata": {},
   "outputs": [
    {
     "data": {
      "text/plain": [
       "[1, 2]"
      ]
     },
     "execution_count": 42,
     "metadata": {},
     "output_type": "execute_result"
    }
   ],
   "source": [
    "e[3] # indexing"
   ]
  },
  {
   "cell_type": "code",
   "execution_count": 43,
   "metadata": {},
   "outputs": [
    {
     "data": {
      "text/plain": [
       "[1, 'Adil']"
      ]
     },
     "execution_count": 43,
     "metadata": {},
     "output_type": "execute_result"
    }
   ],
   "source": [
    "e[0:4:2] # slicing from 0 to 4 with step size of 2"
   ]
  },
  {
   "cell_type": "code",
   "execution_count": 44,
   "metadata": {},
   "outputs": [
    {
     "data": {
      "text/plain": [
       "[1, 'Adil', True]"
      ]
     },
     "execution_count": 44,
     "metadata": {},
     "output_type": "execute_result"
    }
   ],
   "source": [
    "e[0::2] # slicing from 0 to end with step size of 2"
   ]
  },
  {
   "cell_type": "code",
   "execution_count": 45,
   "metadata": {},
   "outputs": [
    {
     "data": {
      "text/plain": [
       "[True, [1, 2], 'Adil', 2, 1]"
      ]
     },
     "execution_count": 45,
     "metadata": {},
     "output_type": "execute_result"
    }
   ],
   "source": [
    "e[::-1] # slicing from 0 to end with step size of -1"
   ]
  },
  {
   "cell_type": "code",
   "execution_count": 46,
   "metadata": {},
   "outputs": [
    {
     "name": "stdout",
     "output_type": "stream",
     "text": [
      "[1, 2, 'Adil', (4+7j), (6, 7, 8, 9), [1, 2, 3, 4, 5]]\n"
     ]
    }
   ],
   "source": [
    "f = [1,2,\"Adil\",4+7j,(6,7,8,9),[1,2,3,4,5]]\n",
    "print(f)"
   ]
  },
  {
   "cell_type": "code",
   "execution_count": 47,
   "metadata": {},
   "outputs": [
    {
     "data": {
      "text/plain": [
       "[1, 2, 3, 4, 5]"
      ]
     },
     "execution_count": 47,
     "metadata": {},
     "output_type": "execute_result"
    }
   ],
   "source": [
    "f[5][0:5] # nested slicing from 0 to 5"
   ]
  },
  {
   "cell_type": "code",
   "execution_count": 48,
   "metadata": {},
   "outputs": [
    {
     "name": "stdout",
     "output_type": "stream",
     "text": [
      "[1, 2, 'Adil', (4+7j), (6, 7, 8, 9), [1, 2, 3, 4, 5, [6, 7, 8, 9]]]\n"
     ]
    }
   ],
   "source": [
    "g = [1,2,\"Adil\",4+7j,(6,7,8,9),[1,2,3,4,5,[6,7,8,9]]]\n",
    "print(g)"
   ]
  },
  {
   "cell_type": "code",
   "execution_count": 49,
   "metadata": {},
   "outputs": [
    {
     "data": {
      "text/plain": [
       "[6, 7, 8, 9]"
      ]
     },
     "execution_count": 49,
     "metadata": {},
     "output_type": "execute_result"
    }
   ],
   "source": [
    "g[5][5]"
   ]
  },
  {
   "cell_type": "markdown",
   "metadata": {},
   "source": [
    "------"
   ]
  }
 ],
 "metadata": {
  "kernelspec": {
   "display_name": "Python 3",
   "language": "python",
   "name": "python3"
  },
  "language_info": {
   "codemirror_mode": {
    "name": "ipython",
    "version": 3
   },
   "file_extension": ".py",
   "mimetype": "text/x-python",
   "name": "python",
   "nbconvert_exporter": "python",
   "pygments_lexer": "ipython3",
   "version": "3.10.15"
  }
 },
 "nbformat": 4,
 "nbformat_minor": 2
}
